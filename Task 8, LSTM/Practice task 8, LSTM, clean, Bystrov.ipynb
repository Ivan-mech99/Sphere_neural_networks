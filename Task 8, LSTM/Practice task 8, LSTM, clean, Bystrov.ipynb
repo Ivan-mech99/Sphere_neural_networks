{
 "cells": [
  {
   "cell_type": "markdown",
   "metadata": {},
   "source": [
    "## Семинар 9: \"LSTM\""
   ]
  },
  {
   "cell_type": "markdown",
   "metadata": {},
   "source": [
    "ФИО: Быстров Иван Дмитриевич"
   ]
  },
  {
   "cell_type": "code",
   "execution_count": 3,
   "metadata": {},
   "outputs": [],
   "source": [
    "import numpy as np\n",
    "from sklearn.model_selection import train_test_split\n",
    "import matplotlib.pyplot as plt\n",
    "from torch import optim\n",
    "import torch\n",
    "from torch import nn\n",
    "#from pytorch_forecasting.metrics import MAPE\n",
    "import pandas as pd\n",
    "from sklearn.preprocessing import MinMaxScaler\n",
    "from torch.utils.data import DataLoader, Dataset, TensorDataset\n",
    "from IPython.display import clear_output\n",
    "import sys\n",
    "%matplotlib inline"
   ]
  },
  {
   "cell_type": "markdown",
   "metadata": {},
   "source": [
    "Этот семинар посвящен реализации RNN в pyTorch"
   ]
  },
  {
   "cell_type": "markdown",
   "metadata": {},
   "source": [
    "## Задание 1"
   ]
  },
  {
   "cell_type": "markdown",
   "metadata": {},
   "source": [
    "Напишите свою реализацию LSTM."
   ]
  },
  {
   "cell_type": "markdown",
   "metadata": {},
   "source": [
    "<img src=\"https://cdn-images-1.medium.com/max/1600/1*hl9UVtgIcQkDIGD8VFykdw.png\" width=\"640\">"
   ]
  },
  {
   "cell_type": "code",
   "execution_count": 4,
   "metadata": {},
   "outputs": [],
   "source": [
    "class LSTM(nn.Module):\n",
    "    def __init__(self, input_size, hidden_size):\n",
    "        super(LSTM, self).__init__()\n",
    "        self.input_size = input_size\n",
    "        self.hidden_size = hidden_size\n",
    "        self.gate_size = 4 * self.hidden_size\n",
    "        \n",
    "        self.W_i = nn.Parameter(torch.Tensor(input_size, self.gate_size).zero_())\n",
    "        \n",
    "        self.W_h = nn.Parameter(torch.Tensor(hidden_size, self.gate_size).zero_())\n",
    "        \n",
    "        self.b = nn.Parameter(torch.Tensor(self.gate_size).zero_())\n",
    "        \n",
    "        \n",
    "    def forward(self, inputs, hidden):\n",
    "        # inputs: (seq_len, batch_size, input_size)\n",
    "        # hidden: (batch_size, hidden_size) x 2. (no layers)\n",
    "        \n",
    "        h, c = hidden\n",
    "        bs = h.size(0)\n",
    "        \n",
    "        seq_length = inputs.size(0)\n",
    "        out = torch.autograd.Variable(torch.Tensor(seq_length, bs, self.hidden_size))\n",
    "        \n",
    "        for i, inp in enumerate(inputs):\n",
    "            S = (torch.matmul(inp, self.W_i) + torch.matmul(h, self.W_h) + self.b)\n",
    "            S = S.view(bs, 4, self.hidden_size)\n",
    "            \n",
    "            i_1 = torch.sigmoid(S[:,0,:])\n",
    "            f_1 = torch.sigmoid(S[:,1,:])\n",
    "            g_1 = torch.tanh(S[:,2,:])\n",
    "            o_1 = torch.sigmoid(S[:,3,:])\n",
    "            \n",
    "            c = f_1 * c + i_1 * g_1\n",
    "            h = o_1 * torch.tanh(c)\n",
    "            out[i] = h\n",
    "        return out, (h, c)"
   ]
  },
  {
   "cell_type": "code",
   "execution_count": 5,
   "metadata": {},
   "outputs": [],
   "source": [
    "def train1(network, train_loader, test_loader, epochs=100, learning_rate=0.001):\n",
    "    loss = nn.MSELoss()\n",
    "    optimizer = torch.optim.Adam(network.parameters(), lr=learning_rate)\n",
    "    train_loss_epochs = []\n",
    "    test_loss_epochs = []\n",
    "    try:\n",
    "        for epoch in range(epochs):\n",
    "            losses = []\n",
    "            for X, y in train_loader:\n",
    "                network.zero_grad()\n",
    "                hidden = (torch.zeros(1, 1, network.hidden_size),\n",
    "                          torch.zeros(1, 1, network.hidden_size))\n",
    "                prediction, hidden = network(X, hidden)\n",
    "                loss_batch = loss(prediction, y)\n",
    "                optimizer.zero_grad()\n",
    "                losses.append(loss_batch.item())\n",
    "                loss_batch.backward()\n",
    "                optimizer.step()\n",
    "            train_loss_epochs.append(np.mean(losses))\n",
    "            losses = [] \n",
    "            for X, y in test_loader:\n",
    "                prediction, _ = network(X, hidden)\n",
    "                loss_batch = loss(prediction, y)\n",
    "                losses.append(loss_batch.item())\n",
    "            test_loss_epochs.append(np.mean(losses))\n",
    "            clear_output(True)\n",
    "            print('\\rEpoch {0}... (Train/Test) NLL: {1:.3f}/{2:.3f}'.format(\n",
    "                  epoch, train_loss_epochs[-1], test_loss_epochs[-1]))\n",
    "            plt.figure(figsize=(6, 5))\n",
    "            plt.plot(train_loss_epochs, label='Train')\n",
    "            plt.plot(test_loss_epochs, label='Test')\n",
    "            plt.xlabel('Epochs', fontsize=16)\n",
    "            plt.ylabel('Loss', fontsize=16)\n",
    "            plt.legend(loc=0, fontsize=16)\n",
    "            plt.grid()\n",
    "            plt.show()\n",
    "    except KeyboardInterrupt:\n",
    "        pass"
   ]
  },
  {
   "cell_type": "markdown",
   "metadata": {
    "collapsed": true
   },
   "source": [
    "## Задание 2"
   ]
  },
  {
   "cell_type": "markdown",
   "metadata": {},
   "source": [
    "Используя свою реализацию LSTM и torch.nn.LSTM (torch.nn.GRU) решить задачу предсказания временного ряда.\n",
    "Попробуйте разные длины входной и выходной последовательности.\n",
    "С помощью обученной сети получить из train-части временного ряда test-часть."
   ]
  },
  {
   "cell_type": "markdown",
   "metadata": {},
   "source": [
    "Данные о количестве пассажиров\n",
    "https://datamarket.com/data/set/22u3/international-airline-passengers-monthly-totals-in-thousands-jan-49-dec-60#!ds=22u3&display=line"
   ]
  },
  {
   "cell_type": "code",
   "execution_count": 6,
   "metadata": {},
   "outputs": [
    {
     "data": {
      "image/png": "[encoded data removed]",
      "text/plain": [
       "<Figure size 432x288 with 1 Axes>"
      ]
     },
     "metadata": {
      "needs_background": "light"
     },
     "output_type": "display_data"
    }
   ],
   "source": [
    "%matplotlib inline\n",
    "dataset = pd.read_csv('international-airline-passengers.csv', usecols=[1], delimiter=\";\", engine='python', skipfooter=3)\n",
    "plt.plot(dataset)\n",
    "plt.show()"
   ]
  },
  {
   "cell_type": "code",
   "execution_count": 7,
   "metadata": {},
   "outputs": [],
   "source": [
    "# подготовливаем данные\n",
    "\n",
    "dataset = dataset.values\n",
    "dataset = dataset.astype('float32')\n",
    "scaler = MinMaxScaler(feature_range=(0, 1))\n",
    "dataset = scaler.fit_transform(dataset)"
   ]
  },
  {
   "cell_type": "code",
   "execution_count": 8,
   "metadata": {},
   "outputs": [
    {
     "name": "stdout",
     "output_type": "stream",
     "text": [
      "96 48\n"
     ]
    }
   ],
   "source": [
    "# разбиваем данные на train / test\n",
    "train_size = int(len(dataset) * 0.67)\n",
    "test_size = len(dataset) - train_size\n",
    "train, test = dataset[0:train_size,:], dataset[train_size:len(dataset),:]\n",
    "print(len(train), len(test))\n"
   ]
  },
  {
   "cell_type": "code",
   "execution_count": 9,
   "metadata": {},
   "outputs": [],
   "source": [
    "# Целевая переменная - сдвинутая последовательность значений входов\n",
    "\n",
    "def create_dataset(dataset, look_back=1, look_forward=1):\n",
    "    dataX, dataY = [], []\n",
    "    for i in range(len(dataset)-look_back-1-look_forward):\n",
    "        a = dataset[i:(i+look_back), 0]\n",
    "        dataX.append(a)\n",
    "        dataY.append(dataset[i + look_back : (i + look_back + look_forward), 0])\n",
    "\n",
    "    return np.array(dataX), np.array(dataY)"
   ]
  },
  {
   "cell_type": "code",
   "execution_count": 10,
   "metadata": {},
   "outputs": [],
   "source": [
    "# Пример подготовленных данных\n",
    "\n",
    "look_back = 5\n",
    "look_forward=1\n",
    "trainX, trainY = create_dataset(train, look_back, look_forward)\n",
    "testX, testY = create_dataset(test, look_back, look_forward)\n",
    "\n",
    "trainX = np.reshape(trainX, (trainX.shape[0], 1, trainX.shape[1]))\n",
    "testX = np.reshape(testX, (testX.shape[0], 1, testX.shape[1]))"
   ]
  },
  {
   "cell_type": "code",
   "execution_count": 11,
   "metadata": {},
   "outputs": [],
   "source": [
    "train_dataset = TensorDataset(torch.from_numpy(trainX), torch.from_numpy(trainY))\n",
    "train_dataloader =  DataLoader(train_dataset, batch_size=5)\n",
    "test_dataset = TensorDataset(torch.from_numpy(testX), torch.from_numpy(testY))\n",
    "test_dataloader =  DataLoader(test_dataset, batch_size=5)"
   ]
  },
  {
   "cell_type": "code",
   "execution_count": 12,
   "metadata": {},
   "outputs": [
    {
     "name": "stdout",
     "output_type": "stream",
     "text": [
      "\r",
      "Epoch 99... (Train/Test) NLL: 0.008/0.020\n"
     ]
    },
    {
     "data": {
      "image/png": "[encoded data removed]",
      "text/plain": [
       "<Figure size 432x360 with 1 Axes>"
      ]
     },
     "metadata": {
      "needs_background": "light"
     },
     "output_type": "display_data"
    }
   ],
   "source": [
    "default_lstm =  nn.LSTM(hidden_size=look_forward, input_size=look_back)\n",
    "train1(default_lstm, train_dataloader, test_dataloader)"
   ]
  },
  {
   "cell_type": "code",
   "execution_count": 12,
   "metadata": {},
   "outputs": [
    {
     "name": "stdout",
     "output_type": "stream",
     "text": [
      "\r",
      "Epoch 99... (Train/Test) NLL: 0.005/0.020\n"
     ]
    },
    {
     "data": {
      "image/png": "[encoded data removed]",
      "text/plain": [
       "<Figure size 432x360 with 1 Axes>"
      ]
     },
     "metadata": {
      "needs_background": "light"
     },
     "output_type": "display_data"
    }
   ],
   "source": [
    "handmade_lstm = LSTM(hidden_size=look_forward, input_size=look_back)\n",
    "train1(handmade_lstm, train_dataloader, test_dataloader)"
   ]
  },
  {
   "cell_type": "code",
   "execution_count": 13,
   "metadata": {},
   "outputs": [],
   "source": [
    "def pred_plot(network, dataset, test_dataloader, train_size, hidden_size):\n",
    "    hidden = (torch.zeros(1, 1, network.hidden_size),\n",
    "              torch.ones(1, 1, network.hidden_size))\n",
    "    predicted = []\n",
    "    network.zero_grad()\n",
    "    for X, y in test_dataloader:\n",
    "        predy, hidden = network(X, hidden)\n",
    "        for elem in predy.detach().flatten().tolist():\n",
    "            predicted.append(elem)\n",
    "    predicted = np.array(predicted)\n",
    "    plt.figure(figsize=(6, 5))\n",
    "    plt.plot(dataset[0:len(dataset),:], color = 'blue')\n",
    "    temp = dataset.copy()\n",
    "    temp[-len(predicted):] = predicted.reshape(-1,1)\n",
    "    plt.plot(np.arange(len(dataset) - len(predicted), len(dataset)), temp[-len(predicted):], color = 'red')\n",
    "    plt.grid()\n",
    "    plt.show()\n",
    "    return np.array(predicted)"
   ]
  },
  {
   "cell_type": "code",
   "execution_count": 14,
   "metadata": {},
   "outputs": [
    {
     "data": {
      "image/png": "[encoded data removed]",
      "text/plain": [
       "<Figure size 432x360 with 1 Axes>"
      ]
     },
     "metadata": {
      "needs_background": "light"
     },
     "output_type": "display_data"
    },
    {
     "data": {
      "text/plain": [
       "array([0.55809861, 0.52521741, 0.55055279, 0.5771842 , 0.58599985,\n",
       "       0.57634312, 0.54338986, 0.51168633, 0.48114625, 0.45512709,\n",
       "       0.45706782, 0.46699253, 0.47632545, 0.50701594, 0.5570609 ,\n",
       "       0.59755474, 0.60644287, 0.5973835 , 0.56362575, 0.52735889,\n",
       "       0.49491724, 0.47581923, 0.48866394, 0.51085848, 0.53467113,\n",
       "       0.56695777, 0.61847675, 0.6562295 , 0.66602796, 0.65632838,\n",
       "       0.62920713, 0.60226703, 0.57638025, 0.55770445, 0.55788583,\n",
       "       0.58071464, 0.60004848, 0.6301071 , 0.67858571, 0.71261728,\n",
       "       0.71709359])"
      ]
     },
     "execution_count": 14,
     "metadata": {},
     "output_type": "execute_result"
    }
   ],
   "source": [
    "pred_plot(handmade_lstm, dataset, test_dataloader, train_size, look_forward)"
   ]
  },
  {
   "cell_type": "code",
   "execution_count": 15,
   "metadata": {},
   "outputs": [
    {
     "data": {
      "image/png": "[encoded data removed]",
      "text/plain": [
       "<Figure size 432x360 with 1 Axes>"
      ]
     },
     "metadata": {
      "needs_background": "light"
     },
     "output_type": "display_data"
    },
    {
     "data": {
      "text/plain": [
       "array([0.57635534, 0.49981534, 0.55968797, 0.5934996 , 0.60429651,\n",
       "       0.60008168, 0.57288766, 0.5371654 , 0.50341749, 0.46389651,\n",
       "       0.43736148, 0.47602019, 0.47831064, 0.49358439, 0.571868  ,\n",
       "       0.61689919, 0.6350376 , 0.62065321, 0.59906089, 0.56503117,\n",
       "       0.51371789, 0.49083737, 0.46995527, 0.52178657, 0.54445183,\n",
       "       0.56533408, 0.64082539, 0.69080293, 0.71330112, 0.69621199,\n",
       "       0.679263  , 0.6549446 , 0.61943507, 0.5910157 , 0.56049985,\n",
       "       0.59848803, 0.63291705, 0.64943111, 0.70556825, 0.76580119,\n",
       "       0.77877843])"
      ]
     },
     "execution_count": 15,
     "metadata": {},
     "output_type": "execute_result"
    }
   ],
   "source": [
    "pred_plot(default_lstm, dataset, test_dataloader, train_size, look_forward)"
   ]
  },
  {
   "cell_type": "markdown",
   "metadata": {},
   "source": [
    "## Задание 3 \n",
    "\n",
    "Поучаствуйте в соревновании https://www.kaggle.com/t/374fc477c4744b009a837153ce135cfb \n",
    "\n",
    "Для зачета задания нужно получить значение MAPE меньше 0.2\n",
    "\n",
    "До 1 мая 2021 можно получить 3,2,1 дополнительных балла за 1, 2 и 3 место соответственно.\n",
    "\n",
    "\n",
    "Опиционально: сравните классические подходы (ARIMA, gradient boosting trees и RNN)"
   ]
  },
  {
   "cell_type": "code",
   "execution_count": 16,
   "metadata": {},
   "outputs": [],
   "source": [
    "#Доступа к соревнованию нет, модель надо будет переделать"
   ]
  },
  {
   "cell_type": "code",
   "execution_count": 17,
   "metadata": {},
   "outputs": [],
   "source": [
    "def train2(network, train_loader, epochs=100, learning_rate=0.001):\n",
    "    loss = nn.MSELoss()\n",
    "    optimizer = torch.optim.Adam(network.parameters(), lr=learning_rate)\n",
    "    train_loss_epochs = []\n",
    "    try:\n",
    "        for epoch in range(epochs):\n",
    "            losses = []\n",
    "            for X, y in train_loader:\n",
    "                network.zero_grad()\n",
    "                hidden = (torch.zeros(1, 1, network.hidden_size),\n",
    "                          torch.zeros(1, 1, network.hidden_size))\n",
    "                prediction = network(X, hidden)\n",
    "                loss_batch = loss(prediction, y)\n",
    "                optimizer.zero_grad()\n",
    "                losses.append(loss_batch.item())\n",
    "                loss_batch.backward()\n",
    "                optimizer.step()\n",
    "            train_loss_epochs.append(np.mean(losses))\n",
    "            clear_output(True)\n",
    "            print('\\rEpoch {0}... (Train) NLL: {1:.3f}'.format(\n",
    "                  epoch, train_loss_epochs[-1]))\n",
    "                        #epoch, train_loss_epochs[-1], test_loss_epochs[-1]))\n",
    "            plt.figure(figsize=(6, 5))\n",
    "            plt.plot(train_loss_epochs, label='Train')\n",
    "            plt.xlabel('Epochs', fontsize=16)\n",
    "            plt.ylabel('Loss', fontsize=16)\n",
    "            plt.legend(loc=0, fontsize=16)\n",
    "            plt.grid()\n",
    "            plt.show()\n",
    "    except KeyboardInterrupt:\n",
    "        pass"
   ]
  },
  {
   "cell_type": "code",
   "execution_count": 18,
   "metadata": {},
   "outputs": [],
   "source": [
    "class NET(nn.Module):\n",
    "  def __init__(self, inp_size, hid_size, out_size):\n",
    "        super(NET, self).__init__()\n",
    "        self.hidden_size = hid_size\n",
    "        self.output_size = out_size\n",
    "        self.lstm        = LSTM(inp_size,  self.hidden_size)\n",
    "        self.linear      = nn.Sequential(nn.Linear(self.hidden_size, 128))\n",
    "        self.conv_blocks = nn.Sequential(nn.Conv2d(1, 32, 3, 2),\n",
    "                                         nn.ReLU(),\n",
    "                                         nn.Conv2d(32, 64, 3, 2),\n",
    "                                         nn.ReLU())\n",
    "        self.last_linear = nn.Sequential(nn.Linear(192, self.output_size))\n",
    "      \n",
    "  def forward(self, X, hidden):\n",
    "        output, _    = self.lstm(X, hidden)\n",
    "        output    = output.view(X.shape[0], -1)\n",
    "        output    = self.linear(output)\n",
    "        output    = output.view(X.shape[0], 1, 8, 16)\n",
    "        output    = self.conv_blocks(output)\n",
    "        output    = output.view(X.shape[0], -1)\n",
    "        output    = self.last_linear(output)\n",
    "        return output"
   ]
  },
  {
   "cell_type": "code",
   "execution_count": 19,
   "metadata": {},
   "outputs": [
    {
     "data": {
      "image/png": "[encoded data removed]",
      "text/plain": [
       "<Figure size 432x360 with 1 Axes>"
      ]
     },
     "metadata": {
      "needs_background": "light"
     },
     "output_type": "display_data"
    }
   ],
   "source": [
    "data = pd.read_csv('train.csv', usecols=[1])#, #usecols=[1], delimiter=\",\", engine='python', skipfooter=3)\n",
    "plt.figure(figsize=(6, 5))\n",
    "plt.plot(data)\n",
    "plt.show()"
   ]
  },
  {
   "cell_type": "code",
   "execution_count": 20,
   "metadata": {},
   "outputs": [],
   "source": [
    "lb = 65\n",
    "lf = 1\n",
    "scaler = MinMaxScaler(feature_range=(0, 1))\n",
    "data_transformed = data.astype('float32')\n",
    "data_transformed = scaler.fit_transform(data_transformed.values)\n",
    "X_train, Y_train = create_dataset(data_transformed, lb, lf)\n",
    "X_train = np.reshape(X_train, (X_train.shape[0], 1, X_train.shape[1]))\n",
    "train_dataset = TensorDataset(torch.from_numpy(X_train), torch.from_numpy(Y_train))\n",
    "train_dataloader = DataLoader(train_dataset, batch_size=5)"
   ]
  },
  {
   "cell_type": "code",
   "execution_count": 21,
   "metadata": {},
   "outputs": [
    {
     "name": "stdout",
     "output_type": "stream",
     "text": [
      "\r",
      "Epoch 99... (Train) NLL: 0.003\n"
     ]
    },
    {
     "data": {
      "image/png": "[encoded data removed]",
      "text/plain": [
       "<Figure size 432x360 with 1 Axes>"
      ]
     },
     "metadata": {
      "needs_background": "light"
     },
     "output_type": "display_data"
    }
   ],
   "source": [
    "model = NET(lb, 120, lf)\n",
    "train2(model, train_dataloader, epochs=100, learning_rate=0.001)"
   ]
  },
  {
   "cell_type": "code",
   "execution_count": 22,
   "metadata": {},
   "outputs": [],
   "source": [
    "def comp_pred(network, hidden_size, data):\n",
    "    result = []\n",
    "    test = data[-hidden_size:]\n",
    "    network.eval()\n",
    "    for i in range(365):\n",
    "        X_test = []\n",
    "        X_test.append(test[i:i+hidden_size, 0])\n",
    "        X_test = np.reshape(np.array(X_test), (np.array(X_test).shape[0], 1, np.array(X_test).shape[1]))\n",
    "        X = torch.tensor(X_test)\n",
    "        hidden = (torch.zeros(1, network.hidden_size),\n",
    "                  torch.zeros(1, network.hidden_size))\n",
    "        prediction = network(X, hidden).detach().numpy()\n",
    "        result.append(np.mean(prediction))\n",
    "        test = np.vstack((test, prediction))\n",
    "    return result"
   ]
  },
  {
   "cell_type": "code",
   "execution_count": 23,
   "metadata": {},
   "outputs": [],
   "source": [
    "result = comp_pred(model, lb, data_transformed)\n",
    "final_res = []\n",
    "for elem in result:\n",
    "    final_res.append([elem])\n",
    "res_inv = scaler.inverse_transform(final_res)\n",
    "final_res = []\n",
    "for elem in res_inv:\n",
    "    final_res.append(elem[0])"
   ]
  },
  {
   "cell_type": "code",
   "execution_count": 24,
   "metadata": {},
   "outputs": [],
   "source": [
    "df = pd.DataFrame()\n",
    "df['date'] = pd.date_range(\"2019-01-01\", periods=365, freq=\"D\")\n",
    "df['hits'] = final_res"
   ]
  },
  {
   "cell_type": "code",
   "execution_count": 25,
   "metadata": {},
   "outputs": [
    {
     "data": {
      "text/html": [
       "<div>\n",
       "<style scoped>\n",
       "    .dataframe tbody tr th:only-of-type {\n",
       "        vertical-align: middle;\n",
       "    }\n",
       "\n",
       "    .dataframe tbody tr th {\n",
       "        vertical-align: top;\n",
       "    }\n",
       "\n",
       "    .dataframe thead th {\n",
       "        text-align: right;\n",
       "    }\n",
       "</style>\n",
       "<table border=\"1\" class=\"dataframe\">\n",
       "  <thead>\n",
       "    <tr style=\"text-align: right;\">\n",
       "      <th></th>\n",
       "      <th>date</th>\n",
       "      <th>hits</th>\n",
       "    </tr>\n",
       "  </thead>\n",
       "  <tbody>\n",
       "    <tr>\n",
       "      <th>0</th>\n",
       "      <td>2019-01-01</td>\n",
       "      <td>2.265651e+08</td>\n",
       "    </tr>\n",
       "    <tr>\n",
       "      <th>1</th>\n",
       "      <td>2019-01-02</td>\n",
       "      <td>2.449977e+08</td>\n",
       "    </tr>\n",
       "    <tr>\n",
       "      <th>2</th>\n",
       "      <td>2019-01-03</td>\n",
       "      <td>2.377775e+08</td>\n",
       "    </tr>\n",
       "    <tr>\n",
       "      <th>3</th>\n",
       "      <td>2019-01-04</td>\n",
       "      <td>2.265025e+08</td>\n",
       "    </tr>\n",
       "    <tr>\n",
       "      <th>4</th>\n",
       "      <td>2019-01-05</td>\n",
       "      <td>1.397642e+08</td>\n",
       "    </tr>\n",
       "    <tr>\n",
       "      <th>...</th>\n",
       "      <td>...</td>\n",
       "      <td>...</td>\n",
       "    </tr>\n",
       "    <tr>\n",
       "      <th>360</th>\n",
       "      <td>2019-12-27</td>\n",
       "      <td>2.490057e+08</td>\n",
       "    </tr>\n",
       "    <tr>\n",
       "      <th>361</th>\n",
       "      <td>2019-12-28</td>\n",
       "      <td>1.586481e+08</td>\n",
       "    </tr>\n",
       "    <tr>\n",
       "      <th>362</th>\n",
       "      <td>2019-12-29</td>\n",
       "      <td>1.522787e+08</td>\n",
       "    </tr>\n",
       "    <tr>\n",
       "      <th>363</th>\n",
       "      <td>2019-12-30</td>\n",
       "      <td>2.626113e+08</td>\n",
       "    </tr>\n",
       "    <tr>\n",
       "      <th>364</th>\n",
       "      <td>2019-12-31</td>\n",
       "      <td>2.629208e+08</td>\n",
       "    </tr>\n",
       "  </tbody>\n",
       "</table>\n",
       "<p>365 rows × 2 columns</p>\n",
       "</div>"
      ],
      "text/plain": [
       "          date          hits\n",
       "0   2019-01-01  2.265651e+08\n",
       "1   2019-01-02  2.449977e+08\n",
       "2   2019-01-03  2.377775e+08\n",
       "3   2019-01-04  2.265025e+08\n",
       "4   2019-01-05  1.397642e+08\n",
       "..         ...           ...\n",
       "360 2019-12-27  2.490057e+08\n",
       "361 2019-12-28  1.586481e+08\n",
       "362 2019-12-29  1.522787e+08\n",
       "363 2019-12-30  2.626113e+08\n",
       "364 2019-12-31  2.629208e+08\n",
       "\n",
       "[365 rows x 2 columns]"
      ]
     },
     "execution_count": 25,
     "metadata": {},
     "output_type": "execute_result"
    }
   ],
   "source": [
    "df"
   ]
  },
  {
   "cell_type": "code",
   "execution_count": 26,
   "metadata": {},
   "outputs": [],
   "source": [
    "df.to_csv('ans.csv')"
   ]
  },
  {
   "cell_type": "markdown",
   "metadata": {},
   "source": [
    "#### Feedback (опционально)"
   ]
  },
  {
   "cell_type": "markdown",
   "metadata": {},
   "source": [
    "Здесь вы можете оставить список опечаток из лекции или семинара:"
   ]
  },
  {
   "cell_type": "raw",
   "metadata": {},
   "source": []
  },
  {
   "cell_type": "markdown",
   "metadata": {},
   "source": [
    "Здесь вы можете оставить комментарии по лекции или семинару:"
   ]
  },
  {
   "cell_type": "raw",
   "metadata": {},
   "source": []
  }
 ],
 "metadata": {
  "kernelspec": {
   "display_name": "Python 3",
   "language": "python",
   "name": "python3"
  },
  "language_info": {
   "codemirror_mode": {
    "name": "ipython",
    "version": 3
   },
   "file_extension": ".py",
   "mimetype": "text/x-python",
   "name": "python",
   "nbconvert_exporter": "python",
   "pygments_lexer": "ipython3",
   "version": "3.8.8"
  },
  "latex_envs": {
   "bibliofile": "biblio.bib",
   "cite_by": "apalike",
   "current_citInitial": 1,
   "eqLabelWithNumbers": true,
   "eqNumInitial": 0
  }
 },
 "nbformat": 4,
 "nbformat_minor": 1
}
