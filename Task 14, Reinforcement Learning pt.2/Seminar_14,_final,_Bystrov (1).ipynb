{
  "cells": [
    {
      "cell_type": "markdown",
      "metadata": {
        "id": "JY4rc3GgXFow"
      },
      "source": [
        "## Семинар 15: \"Обучение с подкреплением 2\""
      ]
    },
    {
      "cell_type": "markdown",
      "metadata": {
        "id": "N_yvpaiKXFoz"
      },
      "source": [
        "ФИО: Быстров Иван Дмитриевич"
      ]
    },
    {
      "cell_type": "markdown",
      "metadata": {
        "id": "Q6slZB9mXFo1"
      },
      "source": [
        "###  FrozenLake\n",
        "\n",
        "\n",
        "<img src=\"http://vignette2.wikia.nocookie.net/riseoftheguardians/images/4/4c/Jack's_little_sister_on_the_ice.jpg/revision/latest?cb=20141218030206\" alt=\"a random image to attract attention\" style=\"width: 400px;\"/>\n",
        "\n"
      ]
    },
    {
      "cell_type": "code",
      "execution_count": null,
      "metadata": {
        "id": "gw4bpJCzXFo2"
      },
      "outputs": [],
      "source": [
        "import gym\n",
        "import numpy as np \n",
        "import random\n",
        "\n",
        "#create a single game instance\n",
        "env = gym.make(\"FrozenLake-v1\")\n",
        "\n",
        "#start new game\n",
        "env.reset();"
      ]
    },
    {
      "cell_type": "code",
      "execution_count": null,
      "metadata": {
        "id": "1mnZ6kPAXFo4",
        "outputId": "6e6287de-629c-46d7-e60c-9d85240b5ae2"
      },
      "outputs": [
        {
          "name": "stdout",
          "output_type": "stream",
          "text": [
            "\n",
            "\u001b[41mS\u001b[0mFFF\n",
            "FHFH\n",
            "FFFH\n",
            "HFFG\n"
          ]
        }
      ],
      "source": [
        "# display the game state\n",
        "env.render()"
      ]
    },
    {
      "cell_type": "markdown",
      "metadata": {
        "id": "SZvwn5TGXFo5"
      },
      "source": [
        "### legend\n",
        "\n",
        "![img](https://cdn-images-1.medium.com/max/800/1*MCjDzR-wfMMkS0rPqXSmKw.png)"
      ]
    },
    {
      "cell_type": "markdown",
      "metadata": {
        "id": "WAC-eJG4XFo6"
      },
      "source": [
        "## Задание 1.\n",
        "Подберите значения alpha и epsilon и найдите приближение оптимальной Q-функции для Frozen Lake."
      ]
    },
    {
      "cell_type": "code",
      "execution_count": null,
      "metadata": {
        "id": "eHC3ZrnJXFo6"
      },
      "outputs": [],
      "source": [
        "\n",
        "class QLearn:\n",
        "    def __init__(self, actions, epsilon=0.1, alpha=0.2, gamma=0.9):\n",
        "        self.q = {}\n",
        "        self.epsilon = epsilon\n",
        "        self.alpha = alpha\n",
        "        self.gamma = gamma\n",
        "        self.actions = actions\n",
        "\n",
        "    def getQ(self, state, action):\n",
        "        return self.q.get((state, action), 0.0)\n",
        "\n",
        "    def learnQ(self, state, action, reward, value):\n",
        "        oldv = self.q.get((state, action), None)\n",
        "\n",
        "        if oldv is None:\n",
        "            self.q[(state, action)] = reward\n",
        "        else:\n",
        "            self.q[(state, action)] = oldv + self.alpha * (value - oldv)\n",
        "\n",
        "    def chooseAction(self, state):\n",
        "        if random.random() < self.epsilon:\n",
        "            action = random.choice(self.actions)\n",
        "        else:\n",
        "            q = [self.getQ(state, a) for a in self.actions]\n",
        "            maxQ = max(q)\n",
        "            count = q.count(maxQ)\n",
        "            if count > 1:\n",
        "                best = [i for i in range(len(self.actions)) if q[i] == maxQ]\n",
        "                i = random.choice(best)\n",
        "            else:\n",
        "                i = q.index(maxQ)\n",
        "\n",
        "            action = self.actions[i]\n",
        "        return action\n",
        "\n",
        "    def learn(self, state1, action1, reward, state2):\n",
        "        maxqnew = max([self.getQ(state2, a) for a in self.actions])\n",
        "        self.learnQ(state1, action1, reward, reward + self.gamma*maxqnew)"
      ]
    },
    {
      "cell_type": "code",
      "execution_count": null,
      "metadata": {
        "id": "XHEl7PeZXFo7"
      },
      "outputs": [],
      "source": [
        "def run_episode_qlearn(env, qlearn, gamma = 1.0, render = False, train=False):\n",
        "    obs = env.reset()\n",
        "    total_reward = 0\n",
        "    step_idx = 0\n",
        "    while True:\n",
        "        if render:\n",
        "            env.render()\n",
        "        action = qlearn.chooseAction(obs)\n",
        "        obs_new, reward, done, _ = env.step(action)\n",
        "        if train:\n",
        "            qlearn.learn(obs, action, reward, obs_new)\n",
        "        obs = obs_new\n",
        "        total_reward += (gamma ** step_idx * reward)\n",
        "        step_idx += 1\n",
        "        if done:\n",
        "            break\n",
        "    return total_reward"
      ]
    },
    {
      "cell_type": "code",
      "execution_count": null,
      "metadata": {
        "id": "W3wLzZwwXFo7"
      },
      "outputs": [],
      "source": [
        "def evaluate_qlearn(env, qlearn, gamma = 1.0,  n = 100):\n",
        "    scores = [\n",
        "            run_episode_qlearn(env, qlearn, gamma = gamma, render = False)\n",
        "            for _ in range(n)]\n",
        "    return np.mean(scores)"
      ]
    },
    {
      "cell_type": "code",
      "execution_count": null,
      "metadata": {
        "id": "45V8HVcLXFo8"
      },
      "outputs": [],
      "source": [
        "from IPython.display import clear_output"
      ]
    },
    {
      "cell_type": "code",
      "execution_count": null,
      "metadata": {
        "id": "RLkselL6XFo8",
        "outputId": "f3f062e7-329d-4772-90c8-5ca163c285dc"
      },
      "outputs": [
        {
          "name": "stdout",
          "output_type": "stream",
          "text": [
            "alpha = 0.0  eps = 0.0  score = 0.01\n",
            "alpha = 0.0  eps = 0.025  score = 0.02\n",
            "alpha = 0.0  eps = 0.275  score = 0.028\n",
            "alpha = 0.025  eps = 0.0  score = 0.084\n",
            "alpha = 0.025  eps = 0.125  score = 0.086\n",
            "alpha = 0.025  eps = 0.25  score = 0.1\n",
            "alpha = 0.05  eps = 0.375  score = 0.102\n",
            "alpha = 0.07500000000000001  eps = 0.0  score = 0.134\n",
            "alpha = 0.1  eps = 0.17500000000000002  score = 0.136\n",
            "alpha = 0.1  eps = 0.30000000000000004  score = 0.152\n",
            "alpha = 0.125  eps = 0.1  score = 0.238\n",
            "alpha = 0.15000000000000002  eps = 0.1  score = 0.314\n",
            "alpha = 0.17500000000000002  eps = 0.1  score = 0.342\n",
            "alpha = 0.25  eps = 0.05  score = 0.466\n",
            "alpha = 0.42500000000000004  eps = 0.05  score = 0.538\n",
            "alpha = 0.47500000000000003  eps = 0.025  score = 0.62\n"
          ]
        }
      ],
      "source": [
        "params = dict()\n",
        "params['alpha'] = 0\n",
        "params['eps'] = 0\n",
        "params['score'] = 0\n",
        "params['model'] = None\n",
        "num_episodes = 500\n",
        "num_train = 500\n",
        "alphas = [0.025*i for i in range(41)]\n",
        "epses = [0.025*i for i in range(41)]\n",
        "for alpha in alphas:\n",
        "    for eps in epses:\n",
        "        qlearn = QLearn(actions=range(env.env.nA), gamma=1, epsilon=eps, alpha=alpha)\n",
        "        for i in range(num_train):\n",
        "            run_episode_qlearn(env, qlearn, gamma=1, train=True)\n",
        "        score = evaluate_qlearn(env, qlearn, n=num_episodes)\n",
        "        if score > params['score']:\n",
        "            params['alpha'] = alpha\n",
        "            params['eps'] = eps\n",
        "            params['score'] = score\n",
        "            params['model'] = qlearn\n",
        "            print('alpha =', alpha, ' eps =', eps, ' score =', score)"
      ]
    },
    {
      "cell_type": "code",
      "execution_count": null,
      "metadata": {
        "id": "B03n1WqlXFo9",
        "outputId": "d6183d05-f8e6-4641-ff63-e3504f060b6b"
      },
      "outputs": [
        {
          "data": {
            "text/plain": [
              "{'alpha': 0.47500000000000003,\n",
              " 'eps': 0.025,\n",
              " 'score': 0.62,\n",
              " 'model': <__main__.QLearn at 0x212cebcc460>}"
            ]
          },
          "execution_count": 8,
          "metadata": {},
          "output_type": "execute_result"
        }
      ],
      "source": [
        "params"
      ]
    },
    {
      "cell_type": "code",
      "execution_count": null,
      "metadata": {
        "id": "y29zMN7yXFo-",
        "outputId": "4e11d50e-5c74-4e63-9599-11701ee96f7e"
      },
      "outputs": [
        {
          "name": "stdout",
          "output_type": "stream",
          "text": [
            "0.632\n"
          ]
        }
      ],
      "source": [
        "score = evaluate_qlearn(env, params['model'], n=num_episodes)\n",
        "print(score)"
      ]
    },
    {
      "cell_type": "code",
      "execution_count": null,
      "metadata": {
        "scrolled": false,
        "id": "fVAHCp3rXFo-",
        "outputId": "df7f113b-95b8-4ae9-9da0-4f55ee952e17"
      },
      "outputs": [
        {
          "name": "stdout",
          "output_type": "stream",
          "text": [
            "\n",
            "\u001b[41mS\u001b[0mFFF\n",
            "FHFH\n",
            "FFFH\n",
            "HFFG\n",
            "  (Left)\n",
            "\u001b[41mS\u001b[0mFFF\n",
            "FHFH\n",
            "FFFH\n",
            "HFFG\n",
            "  (Left)\n",
            "\u001b[41mS\u001b[0mFFF\n",
            "FHFH\n",
            "FFFH\n",
            "HFFG\n",
            "  (Left)\n",
            "SFFF\n",
            "\u001b[41mF\u001b[0mHFH\n",
            "FFFH\n",
            "HFFG\n",
            "  (Left)\n",
            "SFFF\n",
            "\u001b[41mF\u001b[0mHFH\n",
            "FFFH\n",
            "HFFG\n",
            "  (Left)\n",
            "SFFF\n",
            "FHFH\n",
            "\u001b[41mF\u001b[0mFFH\n",
            "HFFG\n",
            "  (Up)\n",
            "SFFF\n",
            "\u001b[41mF\u001b[0mHFH\n",
            "FFFH\n",
            "HFFG\n",
            "  (Left)\n",
            "SFFF\n",
            "\u001b[41mF\u001b[0mHFH\n",
            "FFFH\n",
            "HFFG\n",
            "  (Left)\n",
            "SFFF\n",
            "\u001b[41mF\u001b[0mHFH\n",
            "FFFH\n",
            "HFFG\n",
            "  (Left)\n",
            "SFFF\n",
            "FHFH\n",
            "\u001b[41mF\u001b[0mFFH\n",
            "HFFG\n",
            "  (Up)\n",
            "SFFF\n",
            "FHFH\n",
            "\u001b[41mF\u001b[0mFFH\n",
            "HFFG\n",
            "  (Up)\n",
            "SFFF\n",
            "FHFH\n",
            "F\u001b[41mF\u001b[0mFH\n",
            "HFFG\n",
            "  (Down)\n",
            "SFFF\n",
            "FHFH\n",
            "FFFH\n",
            "H\u001b[41mF\u001b[0mFG\n",
            "  (Right)\n",
            "SFFF\n",
            "FHFH\n",
            "F\u001b[41mF\u001b[0mFH\n",
            "HFFG\n",
            "  (Down)\n",
            "SFFF\n",
            "FHFH\n",
            "FF\u001b[41mF\u001b[0mH\n",
            "HFFG\n",
            "  (Left)\n",
            "SFFF\n",
            "FHFH\n",
            "F\u001b[41mF\u001b[0mFH\n",
            "HFFG\n",
            "  (Down)\n",
            "SFFF\n",
            "FHFH\n",
            "FFFH\n",
            "H\u001b[41mF\u001b[0mFG\n",
            "  (Right)\n",
            "SFFF\n",
            "FHFH\n",
            "F\u001b[41mF\u001b[0mFH\n",
            "HFFG\n",
            "  (Down)\n",
            "SFFF\n",
            "FHFH\n",
            "FF\u001b[41mF\u001b[0mH\n",
            "HFFG\n",
            "  (Left)\n",
            "SFFF\n",
            "FHFH\n",
            "FFFH\n",
            "HF\u001b[41mF\u001b[0mG\n",
            "  (Down)\n",
            "SFFF\n",
            "FHFH\n",
            "FFFH\n",
            "HF\u001b[41mF\u001b[0mG\n",
            "  (Down)\n",
            "SFFF\n",
            "FHFH\n",
            "FFFH\n",
            "HF\u001b[41mF\u001b[0mG\n",
            "  (Down)\n",
            "SFFF\n",
            "FHFH\n",
            "FFFH\n",
            "HF\u001b[41mF\u001b[0mG\n"
          ]
        },
        {
          "data": {
            "text/plain": [
              "1.0"
            ]
          },
          "execution_count": 10,
          "metadata": {},
          "output_type": "execute_result"
        }
      ],
      "source": [
        "run_episode_qlearn(env, params['model'], render=True)"
      ]
    },
    {
      "cell_type": "markdown",
      "metadata": {
        "collapsed": true,
        "id": "iXuYaeocXFo-"
      },
      "source": [
        "## Задание 2.\n",
        "Обучите сеть DQN для среды http://gym.openai.com/envs/Pong-v0/ "
      ]
    },
    {
      "cell_type": "code",
      "execution_count": 1,
      "metadata": {
        "colab": {
          "base_uri": "https://localhost:8080/"
        },
        "id": "YZ0JBqB-XFo_",
        "outputId": "052743b7-2657-4178-a962-53289c477b2c"
      },
      "outputs": [
        {
          "output_type": "stream",
          "name": "stdout",
          "text": [
            "--2022-01-04 06:01:36--  http://www.atarimania.com/roms/Roms.rar\n",
            "Resolving www.atarimania.com (www.atarimania.com)... 195.154.81.199\n",
            "Connecting to www.atarimania.com (www.atarimania.com)|195.154.81.199|:80... connected.\n",
            "HTTP request sent, awaiting response... 200 OK\n",
            "Length: 11128004 (11M) [application/x-rar-compressed]\n",
            "Saving to: ‘Roms.rar’\n",
            "\n",
            "Roms.rar            100%[===================>]  10.61M  4.68MB/s    in 2.3s    \n",
            "\n",
            "2022-01-04 06:01:38 (4.68 MB/s) - ‘Roms.rar’ saved [11128004/11128004]\n",
            "\n",
            "\n",
            "UNRAR 5.50 freeware      Copyright (c) 1993-2017 Alexander Roshal\n",
            "\n",
            "\n",
            "Extracting from /content/Roms.rar\n",
            "\n",
            "Extracting  /content/ROM/HC ROMS.zip                                     \b\b\b\b 36%\b\b\b\b\b  OK \n",
            "Extracting  /content/ROM/ROMS.zip                                        \b\b\b\b 74%\b\b\b\b 99%\b\b\b\b\b  OK \n",
            "All OK\n",
            "copying adventure.bin from ROMS/Adventure (1980) (Atari, Warren Robinett) (CX2613, CX2613P) (PAL).bin to /usr/local/lib/python3.7/dist-packages/atari_py/atari_roms/adventure.bin\n",
            "copying air_raid.bin from ROMS/Air Raid (Men-A-Vision) (PAL) ~.bin to /usr/local/lib/python3.7/dist-packages/atari_py/atari_roms/air_raid.bin\n",
            "copying alien.bin from ROMS/Alien (1982) (20th Century Fox Video Games, Douglas 'Dallas North' Neubauer) (11006) ~.bin to /usr/local/lib/python3.7/dist-packages/atari_py/atari_roms/alien.bin\n",
            "copying amidar.bin from ROMS/Amidar (1982) (Parker Brothers, Ed Temple) (PB5310) ~.bin to /usr/local/lib/python3.7/dist-packages/atari_py/atari_roms/amidar.bin\n",
            "copying assault.bin from ROMS/Assault (AKA Sky Alien) (1983) (Bomb - Onbase) (CA281).bin to /usr/local/lib/python3.7/dist-packages/atari_py/atari_roms/assault.bin\n",
            "copying asterix.bin from ROMS/Asterix (AKA Taz) (07-27-1983) (Atari, Jerome Domurat, Steve Woita) (CX2696) (Prototype).bin to /usr/local/lib/python3.7/dist-packages/atari_py/atari_roms/asterix.bin\n",
            "copying asteroids.bin from ROMS/Asteroids (1981) (Atari, Brad Stewart - Sears) (CX2649 - 49-75163) [no copyright] ~.bin to /usr/local/lib/python3.7/dist-packages/atari_py/atari_roms/asteroids.bin\n",
            "copying atlantis.bin from ROMS/Atlantis (Lost City of Atlantis) (1982) (Imagic, Dennis Koble) (720103-1A, 720103-1B, IA3203, IX-010-04) ~.bin to /usr/local/lib/python3.7/dist-packages/atari_py/atari_roms/atlantis.bin\n",
            "copying bank_heist.bin from ROMS/Bank Heist (Bonnie & Clyde, Cops 'n' Robbers, Hold-Up, Roaring 20's) (1983) (20th Century Fox Video Games, Bill Aspromonte) (11012) ~.bin to /usr/local/lib/python3.7/dist-packages/atari_py/atari_roms/bank_heist.bin\n",
            "copying battle_zone.bin from ROMS/Battlezone (1983) (Atari - GCC, Mike Feinstein, Brad Rice) (CX2681) ~.bin to /usr/local/lib/python3.7/dist-packages/atari_py/atari_roms/battle_zone.bin\n",
            "copying beam_rider.bin from ROMS/Beamrider (1984) (Activision - Cheshire Engineering, David Rolfe, Larry Zwick) (AZ-037-04) ~.bin to /usr/local/lib/python3.7/dist-packages/atari_py/atari_roms/beam_rider.bin\n",
            "copying berzerk.bin from ROMS/Berzerk (1982) (Atari, Dan Hitchens - Sears) (CX2650 - 49-75168) ~.bin to /usr/local/lib/python3.7/dist-packages/atari_py/atari_roms/berzerk.bin\n",
            "copying bowling.bin from ROMS/Bowling (1979) (Atari, Larry Kaplan - Sears) (CX2628 - 6-99842, 49-75117) ~.bin to /usr/local/lib/python3.7/dist-packages/atari_py/atari_roms/bowling.bin\n",
            "copying boxing.bin from ROMS/Boxing - La Boxe (1980) (Activision, Bob Whitehead) (AG-002, CAG-002, AG-002-04) ~.bin to /usr/local/lib/python3.7/dist-packages/atari_py/atari_roms/boxing.bin\n",
            "copying breakout.bin from ROMS/Breakout - Breakaway IV (Paddle) (1978) (Atari, Brad Stewart - Sears) (CX2622 - 6-99813, 49-75107) ~.bin to /usr/local/lib/python3.7/dist-packages/atari_py/atari_roms/breakout.bin\n",
            "copying carnival.bin from ROMS/Carnival (1982) (Coleco - Woodside Design Associates, Steve 'Jessica Stevens' Kitchen) (2468) ~.bin to /usr/local/lib/python3.7/dist-packages/atari_py/atari_roms/carnival.bin\n",
            "copying centipede.bin from ROMS/Centipede (1983) (Atari - GCC) (CX2676) ~.bin to /usr/local/lib/python3.7/dist-packages/atari_py/atari_roms/centipede.bin\n",
            "copying chopper_command.bin from ROMS/Chopper Command (1982) (Activision, Bob Whitehead) (AX-015, AX-015-04) ~.bin to /usr/local/lib/python3.7/dist-packages/atari_py/atari_roms/chopper_command.bin\n",
            "copying crazy_climber.bin from ROMS/Crazy Climber (1983) (Atari - Roklan, Joe Gaucher, Alex Leavens) (CX2683) ~.bin to /usr/local/lib/python3.7/dist-packages/atari_py/atari_roms/crazy_climber.bin\n",
            "copying defender.bin from ROMS/Defender (1982) (Atari, Robert C. Polaro, Alan J. Murphy - Sears) (CX2609 - 49-75186) ~.bin to /usr/local/lib/python3.7/dist-packages/atari_py/atari_roms/defender.bin\n",
            "copying demon_attack.bin from ROMS/Demon Attack (Death from Above) (1982) (Imagic, Rob Fulop) (720000-200, 720101-1B, 720101-1C, IA3200, IA3200C, IX-006-04) ~.bin to /usr/local/lib/python3.7/dist-packages/atari_py/atari_roms/demon_attack.bin\n",
            "copying donkey_kong.bin from ROMS/Donkey Kong (1982) (Coleco - Woodside Design Associates - Imaginative Systems Software, Garry Kitchen) (2451) ~.bin to /usr/local/lib/python3.7/dist-packages/atari_py/atari_roms/donkey_kong.bin\n",
            "copying double_dunk.bin from ROMS/Double Dunk (Super Basketball) (1989) (Atari, Matthew L. Hubbard) (CX26159) ~.bin to /usr/local/lib/python3.7/dist-packages/atari_py/atari_roms/double_dunk.bin\n",
            "copying elevator_action.bin from ROMS/Elevator Action (1983) (Atari, Dan Hitchens) (CX26126) (Prototype) ~.bin to /usr/local/lib/python3.7/dist-packages/atari_py/atari_roms/elevator_action.bin\n",
            "copying enduro.bin from ROMS/Enduro (1983) (Activision, Larry Miller) (AX-026, AX-026-04) ~.bin to /usr/local/lib/python3.7/dist-packages/atari_py/atari_roms/enduro.bin\n",
            "copying fishing_derby.bin from ROMS/Fishing Derby (1980) (Activision, David Crane) (AG-004) ~.bin to /usr/local/lib/python3.7/dist-packages/atari_py/atari_roms/fishing_derby.bin\n",
            "copying freeway.bin from ROMS/Freeway (1981) (Activision, David Crane) (AG-009, AG-009-04) ~.bin to /usr/local/lib/python3.7/dist-packages/atari_py/atari_roms/freeway.bin\n",
            "copying frogger.bin from ROMS/Frogger (1982) (Parker Brothers, Ed English, David Lamkins) (PB5300) ~.bin to /usr/local/lib/python3.7/dist-packages/atari_py/atari_roms/frogger.bin\n",
            "copying frostbite.bin from ROMS/Frostbite (1983) (Activision, Steve Cartwright) (AX-031) ~.bin to /usr/local/lib/python3.7/dist-packages/atari_py/atari_roms/frostbite.bin\n",
            "copying galaxian.bin from ROMS/Galaxian (1983) (Atari - GCC, Mark Ackerman, Tom Calderwood, Glenn Parker) (CX2684) ~.bin to /usr/local/lib/python3.7/dist-packages/atari_py/atari_roms/galaxian.bin\n",
            "copying gopher.bin from ROMS/Gopher (Gopher Attack) (1982) (U.S. Games Corporation - JWDA, Sylvia Day, Todd Marshall, Robin McDaniel, Henry Will IV) (VC2001) ~.bin to /usr/local/lib/python3.7/dist-packages/atari_py/atari_roms/gopher.bin\n",
            "copying gravitar.bin from ROMS/Gravitar (1983) (Atari, Dan Hitchens, Mimi Nyden) (CX2685) ~.bin to /usr/local/lib/python3.7/dist-packages/atari_py/atari_roms/gravitar.bin\n",
            "copying hero.bin from ROMS/H.E.R.O. (1984) (Activision, John Van Ryzin) (AZ-036-04) ~.bin to /usr/local/lib/python3.7/dist-packages/atari_py/atari_roms/hero.bin\n",
            "copying ice_hockey.bin from ROMS/Ice Hockey - Le Hockey Sur Glace (1981) (Activision, Alan Miller) (AX-012, CAX-012, AX-012-04) ~.bin to /usr/local/lib/python3.7/dist-packages/atari_py/atari_roms/ice_hockey.bin\n",
            "copying jamesbond.bin from ROMS/James Bond 007 (James Bond Agent 007) (1984) (Parker Brothers - On-Time Software, Joe Gaucher, Louis Marbel) (PB5110) ~.bin to /usr/local/lib/python3.7/dist-packages/atari_py/atari_roms/jamesbond.bin\n",
            "copying journey_escape.bin from ROMS/Journey Escape (1983) (Data Age, J. Ray Dettling) (112-006) ~.bin to /usr/local/lib/python3.7/dist-packages/atari_py/atari_roms/journey_escape.bin\n",
            "copying kaboom.bin from ROMS/Kaboom! (Paddle) (1981) (Activision, Larry Kaplan, David Crane) (AG-010, AG-010-04) ~.bin to /usr/local/lib/python3.7/dist-packages/atari_py/atari_roms/kaboom.bin\n",
            "copying kangaroo.bin from ROMS/Kangaroo (1983) (Atari - GCC, Kevin Osborn) (CX2689) ~.bin to /usr/local/lib/python3.7/dist-packages/atari_py/atari_roms/kangaroo.bin\n",
            "copying keystone_kapers.bin from ROMS/Keystone Kapers - Raueber und Gendarm (1983) (Activision, Garry Kitchen - Ariola) (EAX-025, EAX-025-04I - 711 025-725) (PAL).bin to /usr/local/lib/python3.7/dist-packages/atari_py/atari_roms/keystone_kapers.bin\n",
            "copying king_kong.bin from ROMS/King Kong (1982) (Tigervision - Software Electronics Corporation, Karl T. Olinger - Teldec) (7-001 - 3.60001 VE) (PAL).bin to /usr/local/lib/python3.7/dist-packages/atari_py/atari_roms/king_kong.bin\n",
            "copying koolaid.bin from ROMS/Kool-Aid Man (Kool Aid Pitcher Man) (1983) (M Network, Stephen Tatsumi, Jane Terjung - Kool Aid) (MT4648) ~.bin to /usr/local/lib/python3.7/dist-packages/atari_py/atari_roms/koolaid.bin\n",
            "copying krull.bin from ROMS/Krull (1983) (Atari, Jerome Domurat, Dave Staugas) (CX2682) ~.bin to /usr/local/lib/python3.7/dist-packages/atari_py/atari_roms/krull.bin\n",
            "copying kung_fu_master.bin from ROMS/Kung-Fu Master (1987) (Activision - Imagineering, Dan Kitchen, Garry Kitchen) (AG-039-04) ~.bin to /usr/local/lib/python3.7/dist-packages/atari_py/atari_roms/kung_fu_master.bin\n",
            "copying laser_gates.bin from ROMS/Laser Gates (AKA Innerspace) (1983) (Imagic, Dan Oliver) (720118-2A, 13208, EIX-007-04I) (PAL).bin to /usr/local/lib/python3.7/dist-packages/atari_py/atari_roms/laser_gates.bin\n",
            "copying lost_luggage.bin from ROMS/Lost Luggage (Airport Mayhem) (1982) (Apollo - Games by Apollo, Larry Minor, Ernie Runyon, Ed Salvo) (AP-2004) [no opening scene] ~.bin to /usr/local/lib/python3.7/dist-packages/atari_py/atari_roms/lost_luggage.bin\n",
            "copying montezuma_revenge.bin from ROMS/Montezuma's Revenge - Featuring Panama Joe (1984) (Parker Brothers - JWDA, Henry Will IV) (PB5760) ~.bin to /usr/local/lib/python3.7/dist-packages/atari_py/atari_roms/montezuma_revenge.bin\n",
            "copying mr_do.bin from ROMS/Mr. Do! (1983) (CBS Electronics, Ed English) (4L4478) (PAL).bin to /usr/local/lib/python3.7/dist-packages/atari_py/atari_roms/mr_do.bin\n",
            "copying ms_pacman.bin from ROMS/Ms. Pac-Man (1983) (Atari - GCC, Mark Ackerman, Glenn Parker) (CX2675) ~.bin to /usr/local/lib/python3.7/dist-packages/atari_py/atari_roms/ms_pacman.bin\n",
            "copying name_this_game.bin from ROMS/Name This Game (Guardians of Treasure) (1983) (U.S. Games Corporation - JWDA, Roger Booth, Sylvia Day, Ron Dubren, Todd Marshall, Robin McDaniel, Wes Trager, Henry Will IV) (VC1007) ~.bin to /usr/local/lib/python3.7/dist-packages/atari_py/atari_roms/name_this_game.bin\n",
            "copying pacman.bin from ROMS/Pac-Man (1982) (Atari, Tod Frye) (CX2646) (PAL).bin to /usr/local/lib/python3.7/dist-packages/atari_py/atari_roms/pacman.bin\n",
            "copying phoenix.bin from ROMS/Phoenix (1983) (Atari - GCC, Mike Feinstein, John Mracek) (CX2673) ~.bin to /usr/local/lib/python3.7/dist-packages/atari_py/atari_roms/phoenix.bin\n",
            "copying video_pinball.bin from ROMS/Pinball (AKA Video Pinball) (Zellers).bin to /usr/local/lib/python3.7/dist-packages/atari_py/atari_roms/video_pinball.bin\n",
            "copying pitfall.bin from ROMS/Pitfall! - Pitfall Harry's Jungle Adventure (Jungle Runner) (1982) (Activision, David Crane) (AX-018, AX-018-04) ~.bin to /usr/local/lib/python3.7/dist-packages/atari_py/atari_roms/pitfall.bin\n",
            "copying pooyan.bin from ROMS/Pooyan (1983) (Konami) (RC 100-X 02) ~.bin to /usr/local/lib/python3.7/dist-packages/atari_py/atari_roms/pooyan.bin\n",
            "copying private_eye.bin from ROMS/Private Eye (1984) (Activision, Bob Whitehead) (AG-034-04) ~.bin to /usr/local/lib/python3.7/dist-packages/atari_py/atari_roms/private_eye.bin\n",
            "copying qbert.bin from ROMS/Q-bert (1983) (Parker Brothers - Western Technologies, Dave Hampton, Tom Sloper) (PB5360) ~.bin to /usr/local/lib/python3.7/dist-packages/atari_py/atari_roms/qbert.bin\n",
            "copying riverraid.bin from ROMS/River Raid (1982) (Activision, Carol Shaw) (AX-020, AX-020-04) ~.bin to /usr/local/lib/python3.7/dist-packages/atari_py/atari_roms/riverraid.bin\n",
            "copying road_runner.bin from patched version of ROMS/Road Runner (1989) (Atari - Bobco, Robert C. Polaro) (CX2663) ~.bin to /usr/local/lib/python3.7/dist-packages/atari_py/atari_roms/road_runner.bin\n",
            "copying robotank.bin from ROMS/Robot Tank (Robotank) (1983) (Activision, Alan Miller) (AZ-028, AG-028-04) ~.bin to /usr/local/lib/python3.7/dist-packages/atari_py/atari_roms/robotank.bin\n",
            "copying seaquest.bin from ROMS/Seaquest (1983) (Activision, Steve Cartwright) (AX-022) ~.bin to /usr/local/lib/python3.7/dist-packages/atari_py/atari_roms/seaquest.bin\n",
            "copying sir_lancelot.bin from ROMS/Sir Lancelot (1983) (Xonox - K-Tel Software - Product Guild, Anthony R. Henderson) (99006, 6220) (PAL).bin to /usr/local/lib/python3.7/dist-packages/atari_py/atari_roms/sir_lancelot.bin\n",
            "copying skiing.bin from ROMS/Skiing - Le Ski (1980) (Activision, Bob Whitehead) (AG-005, CAG-005, AG-005-04) ~.bin to /usr/local/lib/python3.7/dist-packages/atari_py/atari_roms/skiing.bin\n",
            "copying solaris.bin from ROMS/Solaris (The Last Starfighter, Star Raiders II, Universe) (1986) (Atari, Douglas Neubauer, Mimi Nyden) (CX26136) ~.bin to /usr/local/lib/python3.7/dist-packages/atari_py/atari_roms/solaris.bin\n",
            "copying space_invaders.bin from ROMS/Space Invaders (1980) (Atari, Richard Maurer - Sears) (CX2632 - 49-75153) ~.bin to /usr/local/lib/python3.7/dist-packages/atari_py/atari_roms/space_invaders.bin\n",
            "copying star_gunner.bin from ROMS/Stargunner (1983) (Telesys, Alex Leavens) (1005) ~.bin to /usr/local/lib/python3.7/dist-packages/atari_py/atari_roms/star_gunner.bin\n",
            "copying surround.bin from ROMS/Surround (32 in 1) (Bit Corporation) (R320).bin to /usr/local/lib/python3.7/dist-packages/atari_py/atari_roms/surround.bin\n",
            "copying tennis.bin from ROMS/Tennis - Le Tennis (1981) (Activision, Alan Miller) (AG-007, CAG-007) ~.bin to /usr/local/lib/python3.7/dist-packages/atari_py/atari_roms/tennis.bin\n",
            "copying time_pilot.bin from ROMS/Time Pilot (1983) (Coleco - Woodside Design Associates, Harley H. Puthuff Jr.) (2663) ~.bin to /usr/local/lib/python3.7/dist-packages/atari_py/atari_roms/time_pilot.bin\n",
            "copying trondead.bin from ROMS/TRON - Deadly Discs (TRON Joystick) (1983) (M Network - INTV - APh Technological Consulting, Jeff Ronne, Brett Stutz) (MT5662) ~.bin to /usr/local/lib/python3.7/dist-packages/atari_py/atari_roms/trondead.bin\n",
            "copying tutankham.bin from ROMS/Tutankham (1983) (Parker Brothers, Dave Engman, Dawn Stockbridge) (PB5340) ~.bin to /usr/local/lib/python3.7/dist-packages/atari_py/atari_roms/tutankham.bin\n",
            "copying up_n_down.bin from ROMS/Up 'n Down (1984) (SEGA - Beck-Tech, Steve Beck, Phat Ho) (009-01) ~.bin to /usr/local/lib/python3.7/dist-packages/atari_py/atari_roms/up_n_down.bin\n",
            "copying venture.bin from ROMS/Venture (1982) (Coleco, Joseph Biel) (2457) ~.bin to /usr/local/lib/python3.7/dist-packages/atari_py/atari_roms/venture.bin\n",
            "copying pong.bin from ROMS/Video Olympics - Pong Sports (Paddle) (1977) (Atari, Joe Decuir - Sears) (CX2621 - 99806, 6-99806, 49-75104) ~.bin to /usr/local/lib/python3.7/dist-packages/atari_py/atari_roms/pong.bin\n",
            "copying wizard_of_wor.bin from ROMS/Wizard of Wor (1982) (CBS Electronics - Roklan, Joe Hellesen, Joe Wagner) (M8774, M8794) ~.bin to /usr/local/lib/python3.7/dist-packages/atari_py/atari_roms/wizard_of_wor.bin\n",
            "copying yars_revenge.bin from ROMS/Yars' Revenge (Time Freeze) (1982) (Atari, Howard Scott Warshaw - Sears) (CX2655 - 49-75167) ~.bin to /usr/local/lib/python3.7/dist-packages/atari_py/atari_roms/yars_revenge.bin\n",
            "copying zaxxon.bin from ROMS/Zaxxon (1983) (Coleco) (2454) ~.bin to /usr/local/lib/python3.7/dist-packages/atari_py/atari_roms/zaxxon.bin\n"
          ]
        }
      ],
      "source": [
        "! wget http://www.atarimania.com/roms/Roms.rar\n",
        "! mkdir /content/ROM/\n",
        "! unrar e /content/Roms.rar /content/ROM/\n",
        "! python -m atari_py.import_roms /content/ROM/"
      ]
    },
    {
      "cell_type": "code",
      "execution_count": 2,
      "metadata": {
        "colab": {
          "base_uri": "https://localhost:8080/"
        },
        "id": "Q5V5PdilXFo_",
        "outputId": "b20df008-18bb-4c89-e949-17173f27df16"
      },
      "outputs": [
        {
          "output_type": "stream",
          "name": "stdout",
          "text": [
            "Mounted at /content/drive\n"
          ]
        }
      ],
      "source": [
        "from google.colab import drive\n",
        "drive.mount('/content/drive')"
      ]
    },
    {
      "cell_type": "code",
      "execution_count": 3,
      "metadata": {
        "id": "xXIumkglXFo_"
      },
      "outputs": [],
      "source": [
        "import gym\n",
        "import cv2\n",
        "import numpy as np\n",
        "import collections\n",
        "import torch\n",
        "import torch.nn as nn\n",
        "import torch.optim as optim\n",
        "import time\n",
        "import matplotlib.pyplot as plt\n",
        "from IPython.display import clear_output\n",
        "device = torch.device(\"cuda\")\n",
        "\n",
        "class MaxAndSkipEnv(gym.Wrapper):\n",
        "    def __init__(self, env=None):\n",
        "        super(MaxAndSkipEnv, self).__init__(env)\n",
        "        self.wrap_buffer = collections.deque(maxlen=2)\n",
        "\n",
        "    def step(self, a):\n",
        "        R = 0.0\n",
        "        d = None\n",
        "        for _ in range(4):\n",
        "            o, r, d, info = self.env.step(a)\n",
        "            self.wrap_buffer.append(o)\n",
        "            R += r\n",
        "            if d:\n",
        "                break\n",
        "        max_img = np.max(np.stack(self.wrap_buffer), axis=0)\n",
        "        return max_img, R, d, info\n",
        "\n",
        "    def reset(self):\n",
        "        self.wrap_buffer.clear()\n",
        "        o = self.env.reset()\n",
        "        self.wrap_buffer.append(o)\n",
        "        return o\n",
        "\n",
        "class ImageProcess(gym.ObservationWrapper):\n",
        "    def __init__(self, env=None):\n",
        "        super(ImageProcess, self).__init__(env)\n",
        "    \n",
        "    def reset(self):\n",
        "        self.buffer = np.zeros((4, 84, 84))\n",
        "        return self.observation(self.env.reset())\n",
        "\n",
        "    def observation(self, obs):\n",
        "        img = np.reshape(obs, [210, 160, 3]).astype(np.float32)\n",
        "        img = img[:, :, 0] * 0.299 + img[:, :, 1] * 0.587 + img[:, :, 2] * 0.114\n",
        "        img = cv2.resize(img, (84, 110), interpolation=cv2.INTER_AREA)\n",
        "        img = np.reshape(img[18:102, :], [84, 84, 1])\n",
        "        img = np.moveaxis(img.astype(np.uint8), 2, 0)\n",
        "        self.buffer[:-1] = self.buffer[1:]\n",
        "        self.buffer[-1] = img\n",
        "        return self.buffer.astype(np.float32) / 255.0\n",
        "\n",
        "def make_env(env_name):\n",
        "    env = gym.make(env_name)\n",
        "    env = MaxAndSkipEnv(env)\n",
        "    return ImageProcess(env)"
      ]
    },
    {
      "cell_type": "code",
      "execution_count": 4,
      "metadata": {
        "id": "CsYRf84dXFpA"
      },
      "outputs": [],
      "source": [
        "class DQN(nn.Module):\n",
        "    def __init__(self):\n",
        "        super(DQN, self).__init__()\n",
        "        self.conv = nn.Sequential(nn.Conv2d(4, 32, 8, 4),\n",
        "                                  nn.ReLU(),\n",
        "                                  nn.Conv2d(32, 64, 4, 2),\n",
        "                                  nn.ReLU(),\n",
        "                                  nn.Conv2d(64, 64, 3, 1),\n",
        "                                  nn.ReLU())\n",
        "        self.fc = nn.Sequential(nn.Linear(3136, 512),\n",
        "                                nn.ReLU(),\n",
        "                                nn.Linear(512, 6))\n",
        "    def forward(self, x):\n",
        "        x = self.conv(x)\n",
        "        x = x.view(x.size()[0], -1)\n",
        "        x = self.fc(x)\n",
        "        return x"
      ]
    },
    {
      "cell_type": "code",
      "execution_count": 5,
      "metadata": {
        "id": "gVdXERG8XFpA"
      },
      "outputs": [],
      "source": [
        "class Agent:\n",
        "    def __init__(self, env):\n",
        "        self.env = env\n",
        "        self.bs = 32\n",
        "        self.memory = collections.deque(maxlen=10000)\n",
        "        self.reset()\n",
        "        self.play = False\n",
        "\n",
        "    def append(self, mem):\n",
        "        self.memory.append(mem)\n",
        "\n",
        "    def sample(self, device):\n",
        "        index = np.random.choice(len(self.memory), self.bs, replace=False)\n",
        "        s, a, r, d, s1 = zip(*[self.memory[ind] for ind in index])\n",
        "        return [torch.tensor(np.array(s)).to(device),\n",
        "                torch.tensor(np.array(a)).to(device),\n",
        "                torch.tensor(np.array(r, dtype=np.float32)).to(device),\n",
        "                torch.ByteTensor(np.array(d, dtype=np.uint8)).to(device),\n",
        "                torch.tensor(np.array(s1)).to(device)]\n",
        "\n",
        "    def reset(self):\n",
        "        self.R = 0.0\n",
        "        self.s = self.env.reset()\n",
        "\n",
        "    def play_step(self, net, eps, device=\"cpu\"):\n",
        "        ep_r = None\n",
        "        if np.random.random() < eps:\n",
        "            a = self.env.action_space.sample()\n",
        "        else:\n",
        "            v = torch.tensor(np.array([self.s])).to(device)\n",
        "            Q = net(v)\n",
        "            _, a = torch.max(Q, dim=1)\n",
        "            a = int(a.item())\n",
        "        s1, r, d, _ = self.env.step(a)\n",
        "        self.R += r\n",
        "        if not self.play:\n",
        "            self.memory.append((self.s, a, r, d, s1))\n",
        "        self.s = s1\n",
        "        if d:\n",
        "            ep_r = self.R\n",
        "            self.reset()\n",
        "        return ep_r"
      ]
    },
    {
      "cell_type": "code",
      "execution_count": 6,
      "metadata": {
        "id": "oV7rXy7hXFpB"
      },
      "outputs": [],
      "source": [
        "def train_model(train_border=10.0, device='cpu'):\n",
        "    env = make_env(\"Pong-v0\" )\n",
        "    model1 = DQN().to(device)\n",
        "    model2 = DQN().to(device)\n",
        "    agent = Agent(env)\n",
        "    eps = 1.0\n",
        "    optimizer = optim.Adam(model1.parameters(), lr=1e-4)\n",
        "    reward_hist = []\n",
        "    avg_reward_hist = []\n",
        "    episodes_hist = []\n",
        "    num_ep = 0\n",
        "    cur_frame = 0  \n",
        "    loss = nn.MSELoss()\n",
        "    while True:\n",
        "        cur_frame += 1\n",
        "        if eps * 0.999985 > 0.02:\n",
        "            eps = eps * 0.999985\n",
        "        else:\n",
        "            eps = 0.02\n",
        "        r = agent.play_step(model1, eps, device=device)\n",
        "        if r is not None:\n",
        "            reward_hist.append(r)\n",
        "            avg_reward_hist.append(np.mean(reward_hist[-100:]))\n",
        "            num_ep+=1\n",
        "            episodes_hist.append(num_ep)\n",
        "            clear_output(True)\n",
        "            print(\"episode:{} reward:{:.2f} avg_reward:{:.3f} epsilon:{:.2f} num_frames:{}\".format(len(reward_hist), \n",
        "                                                                                                   reward_hist[-1], \n",
        "                                                                                                   avg_reward_hist[-1], \n",
        "                                                                                                   eps, \n",
        "                                                                                                   cur_frame))\n",
        "            plt.figure(figsize=(12, 5))\n",
        "            plt.plot(episodes_hist, reward_hist, color = 'blue', label = 'current reward')\n",
        "            plt.plot(episodes_hist, avg_reward_hist, color = 'green', label = 'mean reward')\n",
        "            plt.xlabel('Episodes', fontsize=16)\n",
        "            plt.ylabel('Reward', fontsize=16)\n",
        "            plt.legend(loc=0, fontsize=16)\n",
        "            plt.grid()\n",
        "            plt.show()\n",
        "            if avg_reward_hist[-1] > train_border:\n",
        "                print(\"TRAINING FINISHED\")\n",
        "                path = \"/content/drive/MyDrive/trained_agent.tar\"\n",
        "                torch.save(model1.state_dict(), path)\n",
        "                return model1\n",
        "            if num_ep % 100 == 0:\n",
        "                path = \"/content/drive/MyDrive/agent{}.tar\".format(num_ep)\n",
        "                torch.save(model1.state_dict(), path)\n",
        "        if len(agent.memory) < 10000:\n",
        "            continue\n",
        "        s, a, r, d, s1 = agent.sample(device)\n",
        "        Q_s = model1(s).gather(1, a.unsqueeze(-1)).squeeze(-1)\n",
        "        Q_s1 = model2(s1).max(1)[0]\n",
        "        Q_s1[d] = 0.0\n",
        "        Q_s1 = Q_s1.detach()\n",
        "        Q_ex = 0.99*Q_s1 + r\n",
        "        loss_sample = loss(Q_s, Q_ex)\n",
        "        optimizer.zero_grad()\n",
        "        loss_sample.backward()\n",
        "        optimizer.step()\n",
        "        if cur_frame % 1000 == 0:\n",
        "            model2.load_state_dict(model1.state_dict())"
      ]
    },
    {
      "cell_type": "code",
      "execution_count": 7,
      "metadata": {
        "colab": {
          "base_uri": "https://localhost:8080/",
          "height": 651
        },
        "id": "6xyJAIfVXFpB",
        "outputId": "03123c12-d339-4540-807e-0728308ad4e6"
      },
      "outputs": [
        {
          "output_type": "stream",
          "name": "stdout",
          "text": [
            "episode:3845 reward:-5.00 avg_reward:-1.010 epsilon:0.02 num_frames:3234096\n"
          ]
        },
        {
          "output_type": "display_data",
          "data": {
            "image/png": "[encoded data removed]",
            "text/plain": [
              "<Figure size 864x360 with 1 Axes>"
            ]
          },
          "metadata": {
            "needs_background": "light"
          }
        },
        {
          "output_type": "error",
          "ename": "KeyboardInterrupt",
          "evalue": "ignored",
          "traceback": [
            "\u001b[0;31m---------------------------------------------------------------------------\u001b[0m",
            "\u001b[0;31mKeyboardInterrupt\u001b[0m                         Traceback (most recent call last)",
            "\u001b[0;32m<ipython-input-7-f1751de2c850>\u001b[0m in \u001b[0;36m<module>\u001b[0;34m()\u001b[0m\n\u001b[0;32m----> 1\u001b[0;31m \u001b[0mtrained_net\u001b[0m \u001b[0;34m=\u001b[0m \u001b[0mtrain_model\u001b[0m\u001b[0;34m(\u001b[0m\u001b[0mtrain_border\u001b[0m\u001b[0;34m=\u001b[0m\u001b[0;36m10.0\u001b[0m\u001b[0;34m,\u001b[0m \u001b[0mdevice\u001b[0m\u001b[0;34m=\u001b[0m\u001b[0mdevice\u001b[0m\u001b[0;34m)\u001b[0m\u001b[0;34m\u001b[0m\u001b[0;34m\u001b[0m\u001b[0m\n\u001b[0m",
            "\u001b[0;32m<ipython-input-6-1c42e02d7184>\u001b[0m in \u001b[0;36mtrain_model\u001b[0;34m(train_border, device)\u001b[0m\n\u001b[1;32m     48\u001b[0m         \u001b[0;32mif\u001b[0m \u001b[0mlen\u001b[0m\u001b[0;34m(\u001b[0m\u001b[0magent\u001b[0m\u001b[0;34m.\u001b[0m\u001b[0mmemory\u001b[0m\u001b[0;34m)\u001b[0m \u001b[0;34m<\u001b[0m \u001b[0;36m10000\u001b[0m\u001b[0;34m:\u001b[0m\u001b[0;34m\u001b[0m\u001b[0;34m\u001b[0m\u001b[0m\n\u001b[1;32m     49\u001b[0m             \u001b[0;32mcontinue\u001b[0m\u001b[0;34m\u001b[0m\u001b[0;34m\u001b[0m\u001b[0m\n\u001b[0;32m---> 50\u001b[0;31m         \u001b[0ms\u001b[0m\u001b[0;34m,\u001b[0m \u001b[0ma\u001b[0m\u001b[0;34m,\u001b[0m \u001b[0mr\u001b[0m\u001b[0;34m,\u001b[0m \u001b[0md\u001b[0m\u001b[0;34m,\u001b[0m \u001b[0ms1\u001b[0m \u001b[0;34m=\u001b[0m \u001b[0magent\u001b[0m\u001b[0;34m.\u001b[0m\u001b[0msample\u001b[0m\u001b[0;34m(\u001b[0m\u001b[0mdevice\u001b[0m\u001b[0;34m)\u001b[0m\u001b[0;34m\u001b[0m\u001b[0;34m\u001b[0m\u001b[0m\n\u001b[0m\u001b[1;32m     51\u001b[0m         \u001b[0mQ_s\u001b[0m \u001b[0;34m=\u001b[0m \u001b[0mmodel1\u001b[0m\u001b[0;34m(\u001b[0m\u001b[0ms\u001b[0m\u001b[0;34m)\u001b[0m\u001b[0;34m.\u001b[0m\u001b[0mgather\u001b[0m\u001b[0;34m(\u001b[0m\u001b[0;36m1\u001b[0m\u001b[0;34m,\u001b[0m \u001b[0ma\u001b[0m\u001b[0;34m.\u001b[0m\u001b[0munsqueeze\u001b[0m\u001b[0;34m(\u001b[0m\u001b[0;34m-\u001b[0m\u001b[0;36m1\u001b[0m\u001b[0;34m)\u001b[0m\u001b[0;34m)\u001b[0m\u001b[0;34m.\u001b[0m\u001b[0msqueeze\u001b[0m\u001b[0;34m(\u001b[0m\u001b[0;34m-\u001b[0m\u001b[0;36m1\u001b[0m\u001b[0;34m)\u001b[0m\u001b[0;34m\u001b[0m\u001b[0;34m\u001b[0m\u001b[0m\n\u001b[1;32m     52\u001b[0m         \u001b[0mQ_s1\u001b[0m \u001b[0;34m=\u001b[0m \u001b[0mmodel2\u001b[0m\u001b[0;34m(\u001b[0m\u001b[0ms1\u001b[0m\u001b[0;34m)\u001b[0m\u001b[0;34m.\u001b[0m\u001b[0mmax\u001b[0m\u001b[0;34m(\u001b[0m\u001b[0;36m1\u001b[0m\u001b[0;34m)\u001b[0m\u001b[0;34m[\u001b[0m\u001b[0;36m0\u001b[0m\u001b[0;34m]\u001b[0m\u001b[0;34m\u001b[0m\u001b[0;34m\u001b[0m\u001b[0m\n",
            "\u001b[0;32m<ipython-input-5-018725ec5297>\u001b[0m in \u001b[0;36msample\u001b[0;34m(self, device)\u001b[0m\n\u001b[1;32m     17\u001b[0m                 \u001b[0mtorch\u001b[0m\u001b[0;34m.\u001b[0m\u001b[0mtensor\u001b[0m\u001b[0;34m(\u001b[0m\u001b[0mnp\u001b[0m\u001b[0;34m.\u001b[0m\u001b[0marray\u001b[0m\u001b[0;34m(\u001b[0m\u001b[0mr\u001b[0m\u001b[0;34m,\u001b[0m \u001b[0mdtype\u001b[0m\u001b[0;34m=\u001b[0m\u001b[0mnp\u001b[0m\u001b[0;34m.\u001b[0m\u001b[0mfloat32\u001b[0m\u001b[0;34m)\u001b[0m\u001b[0;34m)\u001b[0m\u001b[0;34m.\u001b[0m\u001b[0mto\u001b[0m\u001b[0;34m(\u001b[0m\u001b[0mdevice\u001b[0m\u001b[0;34m)\u001b[0m\u001b[0;34m,\u001b[0m\u001b[0;34m\u001b[0m\u001b[0;34m\u001b[0m\u001b[0m\n\u001b[1;32m     18\u001b[0m                 \u001b[0mtorch\u001b[0m\u001b[0;34m.\u001b[0m\u001b[0mByteTensor\u001b[0m\u001b[0;34m(\u001b[0m\u001b[0mnp\u001b[0m\u001b[0;34m.\u001b[0m\u001b[0marray\u001b[0m\u001b[0;34m(\u001b[0m\u001b[0md\u001b[0m\u001b[0;34m,\u001b[0m \u001b[0mdtype\u001b[0m\u001b[0;34m=\u001b[0m\u001b[0mnp\u001b[0m\u001b[0;34m.\u001b[0m\u001b[0muint8\u001b[0m\u001b[0;34m)\u001b[0m\u001b[0;34m)\u001b[0m\u001b[0;34m.\u001b[0m\u001b[0mto\u001b[0m\u001b[0;34m(\u001b[0m\u001b[0mdevice\u001b[0m\u001b[0;34m)\u001b[0m\u001b[0;34m,\u001b[0m\u001b[0;34m\u001b[0m\u001b[0;34m\u001b[0m\u001b[0m\n\u001b[0;32m---> 19\u001b[0;31m                 torch.tensor(np.array(s1)).to(device)]\n\u001b[0m\u001b[1;32m     20\u001b[0m \u001b[0;34m\u001b[0m\u001b[0m\n\u001b[1;32m     21\u001b[0m     \u001b[0;32mdef\u001b[0m \u001b[0mreset\u001b[0m\u001b[0;34m(\u001b[0m\u001b[0mself\u001b[0m\u001b[0;34m)\u001b[0m\u001b[0;34m:\u001b[0m\u001b[0;34m\u001b[0m\u001b[0;34m\u001b[0m\u001b[0m\n",
            "\u001b[0;31mKeyboardInterrupt\u001b[0m: "
          ]
        }
      ],
      "source": [
        "trained_net = train_model(train_border=10.0, device=device)"
      ]
    },
    {
      "cell_type": "code",
      "source": [
        "def tune_model(train_border=10.0, device='cpu'):\n",
        "    env = make_env(\"Pong-v0\" )\n",
        "    model1 = DQN().to(device)\n",
        "    model2 = DQN().to(device)\n",
        "    agent = Agent(env)\n",
        "    path = \"/content/drive/MyDrive/agent3400.tar\"\n",
        "    model1.load_state_dict(torch.load(path))\n",
        "    model2.load_state_dict(torch.load(path))\n",
        "    eps = 1.0\n",
        "    optimizer = optim.Adam(model1.parameters(), lr=1e-4)\n",
        "    reward_hist = []\n",
        "    avg_reward_hist = []\n",
        "    episodes_hist = []\n",
        "    num_ep = 0\n",
        "    cur_frame = 0  \n",
        "    loss = nn.MSELoss()\n",
        "    while True:\n",
        "        eps = 0\n",
        "        cur_frame += 1\n",
        "        if eps * 0.999985 > 0:\n",
        "            eps = eps * 0.999985\n",
        "        else:\n",
        "            eps = 0\n",
        "        r = agent.play_step(model1, eps, device=device)\n",
        "        if r is not None:\n",
        "            reward_hist.append(r)\n",
        "            avg_reward_hist.append(np.mean(reward_hist[-100:]))\n",
        "            num_ep+=1\n",
        "            episodes_hist.append(num_ep)\n",
        "            clear_output(True)\n",
        "            print(\"episode:{} reward:{:.2f} avg_reward:{:.3f} epsilon:{:.2f} num_frames:{}\".format(len(reward_hist), \n",
        "                                                                                                   reward_hist[-1], \n",
        "                                                                                                   avg_reward_hist[-1], \n",
        "                                                                                                   eps, \n",
        "                                                                                                   cur_frame))\n",
        "            plt.figure(figsize=(12, 5))\n",
        "            plt.plot(episodes_hist, reward_hist, color = 'blue', label = 'current reward')\n",
        "            plt.plot(episodes_hist, avg_reward_hist, color = 'green', label = 'mean reward')\n",
        "            plt.xlabel('Episodes', fontsize=16)\n",
        "            plt.ylabel('Reward', fontsize=16)\n",
        "            plt.legend(loc=0, fontsize=16)\n",
        "            plt.grid()\n",
        "            plt.show()\n",
        "            if avg_reward_hist[-1] > train_border and len(reward_hist)>300:\n",
        "                print(\"TRAINING FINISHED\")\n",
        "                path = \"/content/drive/MyDrive/trained_agent.tar\"\n",
        "                torch.save(model1.state_dict(), path)\n",
        "                return model1\n",
        "            if num_ep % 100 == 0:\n",
        "                path = \"/content/drive/MyDrive/bgent{}.tar\".format(num_ep)\n",
        "                torch.save(model1.state_dict(), path)\n",
        "        if len(agent.memory) < 10000:\n",
        "            continue\n",
        "        s, a, r, d, s1 = agent.sample(device)\n",
        "        Q_s = model1(s).gather(1, a.unsqueeze(-1)).squeeze(-1)\n",
        "        Q_s1 = model2(s1).max(1)[0]\n",
        "        Q_s1[d] = 0.0\n",
        "        Q_s1 = Q_s1.detach()\n",
        "        Q_ex = 0.99*Q_s1 + r\n",
        "        loss_sample = loss(Q_s, Q_ex)\n",
        "        optimizer.zero_grad()\n",
        "        loss_sample.backward()\n",
        "        optimizer.step()\n",
        "        if cur_frame % 1000 == 0:\n",
        "            model2.load_state_dict(model1.state_dict())"
      ],
      "metadata": {
        "id": "zffSKSRLxe_f"
      },
      "execution_count": 12,
      "outputs": []
    },
    {
      "cell_type": "code",
      "source": [
        "trained_net = tune_model(train_border=15.0, device=device)"
      ],
      "metadata": {
        "colab": {
          "base_uri": "https://localhost:8080/",
          "height": 373
        },
        "id": "aIOcD8gQyCGV",
        "outputId": "0345e928-45fc-48f5-83df-bb1ce659800b"
      },
      "execution_count": 13,
      "outputs": [
        {
          "output_type": "stream",
          "name": "stdout",
          "text": [
            "episode:301 reward:-13.00 avg_reward:15.470 epsilon:0.00 num_frames:201843\n"
          ]
        },
        {
          "output_type": "display_data",
          "data": {
            "image/png": "[encoded data removed]",
            "text/plain": [
              "<Figure size 864x360 with 1 Axes>"
            ]
          },
          "metadata": {
            "needs_background": "light"
          }
        },
        {
          "output_type": "stream",
          "name": "stdout",
          "text": [
            "TRAINING FINISHED\n"
          ]
        }
      ]
    },
    {
      "cell_type": "code",
      "source": [
        "path = \"/content/final_model.tar\"\n",
        "torch.save(trained_net.state_dict(), path)"
      ],
      "metadata": {
        "id": "7MABzg6B8SIK"
      },
      "execution_count": 14,
      "outputs": []
    },
    {
      "cell_type": "code",
      "execution_count": 21,
      "metadata": {
        "id": "aBP7qJeZXFpB"
      },
      "outputs": [],
      "source": [
        "def play_game(model, device=\"cpu\"):\n",
        "    env = make_env(\"Pong-v0\" )\n",
        "    model1 = model\n",
        "    agent = Agent(env)\n",
        "    s = env.reset()\n",
        "    R = 0\n",
        "    while True:\n",
        "        v = torch.tensor(np.array([s])).to(device)\n",
        "        Q = model(v)\n",
        "        _, a = torch.max(Q, dim=1)\n",
        "        a = int(a.item())\n",
        "        s1, r, d, _ = env.step(a)\n",
        "        R += r\n",
        "        s = s1\n",
        "        if d:\n",
        "            ep_r = R\n",
        "            screen = env.render(mode='rgb_array')\n",
        "            break\n",
        "    print(\"reward:{:.2f}\".format(ep_r))\n",
        "    plt.figure()\n",
        "    plt.imshow(screen)\n",
        "    plt.show()"
      ]
    },
    {
      "cell_type": "code",
      "execution_count": 22,
      "metadata": {
        "id": "0pyg2oYxXFpC",
        "colab": {
          "base_uri": "https://localhost:8080/",
          "height": 286
        },
        "outputId": "479e9da5-3536-4fa1-c577-f61491e9fdf0"
      },
      "outputs": [
        {
          "output_type": "stream",
          "name": "stdout",
          "text": [
            "reward:15.00\n"
          ]
        },
        {
          "output_type": "display_data",
          "data": {
            "image/png": "[encoded data removed]",
            "text/plain": [
              "<Figure size 432x288 with 1 Axes>"
            ]
          },
          "metadata": {
            "needs_background": "light"
          }
        }
      ],
      "source": [
        "play_game(trained_net, device)"
      ]
    },
    {
      "cell_type": "code",
      "source": [
        ""
      ],
      "metadata": {
        "id": "cIYwx7Rp8gh4"
      },
      "execution_count": null,
      "outputs": []
    }
  ],
  "metadata": {
    "kernelspec": {
      "display_name": "Python 3",
      "language": "python",
      "name": "python3"
    },
    "language_info": {
      "codemirror_mode": {
        "name": "ipython",
        "version": 3
      },
      "file_extension": ".py",
      "mimetype": "text/x-python",
      "name": "python",
      "nbconvert_exporter": "python",
      "pygments_lexer": "ipython3",
      "version": "3.8.8"
    },
    "colab": {
      "name": "Seminar_14,_final,_Bystrov.ipynb",
      "provenance": []
    },
    "accelerator": "GPU"
  },
  "nbformat": 4,
  "nbformat_minor": 0
}