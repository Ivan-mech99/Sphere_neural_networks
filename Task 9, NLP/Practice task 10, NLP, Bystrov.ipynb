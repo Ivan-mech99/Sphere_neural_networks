{
 "cells": [
  {
   "cell_type": "markdown",
   "metadata": {},
   "source": [
    "## Семинар 10: \"Генерация текстов\""
   ]
  },
  {
   "cell_type": "markdown",
   "metadata": {},
   "source": [
    "ФИО: Быстров Иван Дмитриевич"
   ]
  },
  {
   "cell_type": "code",
   "execution_count": 1,
   "metadata": {},
   "outputs": [],
   "source": [
    "import numpy as np\n",
    "import re\n",
    "from torch import nn\n",
    "from torch.autograd import Variable\n",
    "import matplotlib.pyplot as plt\n",
    "import torch\n",
    "from torch.utils.data import Dataset, DataLoader\n",
    "import sys\n",
    "from IPython.display import clear_output\n",
    "from tqdm.autonotebook import tqdm\n",
    "import progressbar\n",
    "%matplotlib inline"
   ]
  },
  {
   "cell_type": "markdown",
   "metadata": {},
   "source": [
    "Этот семинар посвящен чат-ботам. Вам предстоит реализовать модель, генерирующую определенные тексты. В качестве текстов можно взять сборник цитат умных людей, предсказаний и т.д. На семинаре мы используем данные https://github.com/alvations/Quotables/blob/master/author-quote.txt\n",
    "\n",
    "При реализации задания вы можете пользоваться кодом из этого примера: <a href=https://github.com/spro/practical-pytorch/blob/master/char-rnn-generation/char-rnn-generation.ipynb>Generating Shakespeare with a Character-Level RNN</a>"
   ]
  },
  {
   "cell_type": "markdown",
   "metadata": {},
   "source": [
    "### Часть 1: подготовка данных"
   ]
  },
  {
   "cell_type": "markdown",
   "metadata": {},
   "source": [
    "Реализуйте датасет для дальнейшего обучения (будем использовать batch size=1)"
   ]
  },
  {
   "cell_type": "code",
   "execution_count": 2,
   "metadata": {},
   "outputs": [],
   "source": [
    "lines = [\n",
    "    x.split('\\t')[0].strip() ##!!!!!\n",
    "    for x in open('author-quote.txt', encoding='utf-8').readlines()\n",
    "]"
   ]
  },
  {
   "cell_type": "code",
   "execution_count": 3,
   "metadata": {},
   "outputs": [],
   "source": [
    "lines = list(set(lines))"
   ]
  },
  {
   "cell_type": "code",
   "execution_count": 4,
   "metadata": {},
   "outputs": [
    {
     "data": {
      "image/png": "[encoded data removed]",
      "text/plain": [
       "<Figure size 432x288 with 1 Axes>"
      ]
     },
     "metadata": {
      "needs_background": "light"
     },
     "output_type": "display_data"
    }
   ],
   "source": [
    "plt.hist(list(map(len, lines)), bins=100);"
   ]
  },
  {
   "cell_type": "code",
   "execution_count": 5,
   "metadata": {},
   "outputs": [],
   "source": [
    "#plt.hist(list(map(lambda x: len(x.split()), lines)), bins=100);"
   ]
  },
  {
   "cell_type": "code",
   "execution_count": 6,
   "metadata": {},
   "outputs": [],
   "source": [
    "line = lines[0]"
   ]
  },
  {
   "cell_type": "code",
   "execution_count": 7,
   "metadata": {},
   "outputs": [
    {
     "data": {
      "text/plain": [
       "'Dalai Lama'"
      ]
     },
     "execution_count": 7,
     "metadata": {},
     "output_type": "execute_result"
    }
   ],
   "source": [
    "line"
   ]
  },
  {
   "cell_type": "code",
   "execution_count": 8,
   "metadata": {},
   "outputs": [],
   "source": [
    "# lines = list(\n",
    "#     filter(lambda x: len(x.split()) <= 50,\n",
    "#            lines)\n",
    "# )"
   ]
  },
  {
   "cell_type": "code",
   "execution_count": 9,
   "metadata": {},
   "outputs": [
    {
     "data": {
      "text/plain": [
       "<torch._C.Generator at 0x1e0955e3530>"
      ]
     },
     "execution_count": 9,
     "metadata": {},
     "output_type": "execute_result"
    }
   ],
   "source": [
    "np.random.seed(777)\n",
    "torch.manual_seed(777)"
   ]
  },
  {
   "cell_type": "code",
   "execution_count": 10,
   "metadata": {},
   "outputs": [],
   "source": [
    "class Vocabulary:\n",
    "    def __init__(self, sentences):\n",
    "        all_characters = set()\n",
    "        for line in sentences:\n",
    "            all_characters |= set(line)\n",
    "        all_characters = list(sorted(all_characters))+['<eos>', '<go>']\n",
    "        self.char_to_id = {\n",
    "            x[1]:x[0]\n",
    "            for x in enumerate(all_characters)\n",
    "        }\n",
    "        self.id_to_char = {\n",
    "            x[0]:x[1]\n",
    "            for x in enumerate(all_characters)\n",
    "        }\n",
    "        self.size = len(all_characters)\n",
    "\n",
    "    def encode(self, line):\n",
    "        return [self.char_to_id[x] for x in line]\n",
    "    \n",
    "    def decode(self, tokens):\n",
    "        return ''.join([self.id_to_char[x] for x in tokens])"
   ]
  },
  {
   "cell_type": "code",
   "execution_count": 11,
   "metadata": {},
   "outputs": [],
   "source": [
    "vocab = Vocabulary(lines)"
   ]
  },
  {
   "cell_type": "code",
   "execution_count": 12,
   "metadata": {},
   "outputs": [
    {
     "data": {
      "text/plain": [
       "dict_keys([' ', \"'\", ',', '-', '.', '1', 'A', 'B', 'C', 'D', 'E', 'F', 'G', 'H', 'I', 'J', 'K', 'L', 'M', 'N', 'O', 'P', 'Q', 'R', 'S', 'T', 'U', 'V', 'W', 'X', 'Y', 'Z', 'a', 'b', 'c', 'd', 'e', 'f', 'g', 'h', 'i', 'j', 'k', 'l', 'm', 'n', 'o', 'p', 'q', 'r', 's', 't', 'u', 'v', 'w', 'x', 'y', 'z', 'É', 'à', 'á', 'ç', 'è', 'é', 'ë', 'í', 'ï', 'ñ', 'ò', 'õ', 'ö', 'ø', 'ü', 'ā', 'Č', 'ī', 'Ṭ', '<eos>', '<go>'])"
      ]
     },
     "execution_count": 12,
     "metadata": {},
     "output_type": "execute_result"
    }
   ],
   "source": [
    "vocab.char_to_id.keys()"
   ]
  },
  {
   "cell_type": "code",
   "execution_count": 13,
   "metadata": {},
   "outputs": [],
   "source": [
    "assert vocab.decode(vocab.encode(lines[0])) == lines[0]"
   ]
  },
  {
   "cell_type": "code",
   "execution_count": 14,
   "metadata": {},
   "outputs": [
    {
     "data": {
      "text/plain": [
       "[9, 32, 43, 32, 40, 0, 17, 32, 44, 32]"
      ]
     },
     "execution_count": 14,
     "metadata": {},
     "output_type": "execute_result"
    }
   ],
   "source": [
    "vocab.encode(lines[0])"
   ]
  },
  {
   "cell_type": "code",
   "execution_count": 15,
   "metadata": {},
   "outputs": [],
   "source": [
    "class Quotes(Dataset):\n",
    "    def __init__(self, sentences, vocab):\n",
    "        # Construct vocabulary + EOS & GO tokens\n",
    "        self.sentences = sentences\n",
    "        self.vocab = vocab\n",
    "        self.go = self.vocab.char_to_id['<go>']\n",
    "        self.eos = self.vocab.char_to_id['<eos>']\n",
    "\n",
    "    def __len__(self):\n",
    "        return len(self.sentences)\n",
    "\n",
    "    def __getitem__(self, idx):\n",
    "        tokens = self.vocab.encode(self.sentences[idx])\n",
    "        _input = np.array([self.go]+tokens)\n",
    "        _output = np.array(tokens+[self.eos])\n",
    "        return _input, _output"
   ]
  },
  {
   "cell_type": "code",
   "execution_count": 16,
   "metadata": {},
   "outputs": [],
   "source": [
    "def compose_batch(batch):\n",
    "    lengths = np.array([len(x[0]) for x in batch])\n",
    "    order = np.argsort(-lengths)\n",
    "    go = torch.zeros(len(batch), lengths[order[0]]).long()\n",
    "    eos = torch.zeros(len(batch), lengths[order[0]]).long()\n",
    "    mask = torch.zeros(len(batch), lengths[order[0]]).long()\n",
    "    for i in range(len(batch)):\n",
    "        current_go, current_eos = batch[i]\n",
    "        go[i, :len(current_go)] = torch.tensor(current_go)\n",
    "        eos[i, :len(current_eos)] = torch.tensor(current_eos)\n",
    "        mask[i, :len(current_go)] = 1\n",
    "    mask = mask[order]\n",
    "    go = go[order]\n",
    "    eos = eos[order]\n",
    "    lengths = lengths[order]\n",
    "    return go, eos, mask, lengths"
   ]
  },
  {
   "cell_type": "code",
   "execution_count": 17,
   "metadata": {},
   "outputs": [],
   "source": [
    "dataset = Quotes(lines, vocab)"
   ]
  },
  {
   "cell_type": "code",
   "execution_count": 18,
   "metadata": {},
   "outputs": [],
   "source": [
    "dataloader = DataLoader(\n",
    "    dataset, shuffle=True,\n",
    "    batch_size=64,\n",
    "    collate_fn=compose_batch)"
   ]
  },
  {
   "cell_type": "code",
   "execution_count": 19,
   "metadata": {},
   "outputs": [
    {
     "name": "stdout",
     "output_type": "stream",
     "text": [
      "tensor([[1, 1, 1,  ..., 1, 1, 1],\n",
      "        [1, 1, 1,  ..., 1, 1, 1],\n",
      "        [1, 1, 1,  ..., 1, 1, 0],\n",
      "        ...,\n",
      "        [1, 1, 1,  ..., 0, 0, 0],\n",
      "        [1, 1, 1,  ..., 0, 0, 0],\n",
      "        [1, 1, 1,  ..., 0, 0, 0]])\n",
      "tensor([[78, 15, 46,  ..., 15, 49,  4],\n",
      "        [78, 15, 36,  ..., 40, 45, 36],\n",
      "        [78, 24, 39,  ..., 46, 45,  0],\n",
      "        ...,\n",
      "        [78, 24, 52,  ...,  0,  0,  0],\n",
      "        [78, 15, 52,  ...,  0,  0,  0],\n",
      "        [78, 20, 52,  ...,  0,  0,  0]])\n",
      "tensor([[15, 46, 39,  ..., 49,  4, 77],\n",
      "        [15, 36, 32,  ..., 45, 36, 77],\n",
      "        [24, 39, 44,  ..., 45, 77,  0],\n",
      "        ...,\n",
      "        [24, 52, 45,  ...,  0,  0,  0],\n",
      "        [15, 52, 45,  ...,  0,  0,  0],\n",
      "        [20, 52, 40,  ...,  0,  0,  0]])\n"
     ]
    }
   ],
   "source": [
    "for el in dataloader:\n",
    "    go, eos, mask, lengths = el\n",
    "    print(mask)\n",
    "    print(go)\n",
    "    print(eos)\n",
    "    break"
   ]
  },
  {
   "cell_type": "markdown",
   "metadata": {},
   "source": [
    "### Часть 2: определение модели"
   ]
  },
  {
   "cell_type": "code",
   "execution_count": 20,
   "metadata": {},
   "outputs": [],
   "source": [
    "class Oracle(nn.Module):\n",
    "    def __init__(self, vocabulary_size,\n",
    "                 embedding_size=128,\n",
    "                 hidden_size=256,\n",
    "                 layers=2):\n",
    "        super(Oracle, self).__init__()\n",
    "        self.embedding_size = embedding_size\n",
    "        self.layers = layers\n",
    "        self.hidden_size = hidden_size\n",
    "        self.embedding = nn.Embedding(\n",
    "            vocabulary_size, embedding_size\n",
    "        )\n",
    "        self.generator = nn.GRU(\n",
    "            embedding_size, hidden_size,\n",
    "            layers, batch_first=False\n",
    "        )\n",
    "        self.classifier = nn.Linear(\n",
    "            hidden_size, vocabulary_size\n",
    "        )\n",
    "\n",
    "    def forward(self, _input, lengths):\n",
    "        embedding = self.embedding(_input).transpose(0, 1)\n",
    "        embedding = nn.utils.rnn.pack_padded_sequence(\n",
    "            embedding, lengths\n",
    "        )\n",
    "        output, _ = self.generator(embedding)\n",
    "        output, _ = nn.utils.rnn.pad_packed_sequence(output)\n",
    "        classes = self.classifier(output)\n",
    "        return classes\n",
    "\n",
    "    def generate(self, vocab, max_len=100):\n",
    "        h = torch.zeros(self.layers, 1, self.hidden_size)\n",
    "        current_token = '<go>'\n",
    "        line = ''\n",
    "        while (current_token != '<eos>') and \\\n",
    "                len(line) < max_len:\n",
    "            token = torch.tensor([[vocab.char_to_id[current_token]]]).long()\n",
    "            token_id = token.detach()\n",
    "            embedding = self.embedding(token_id)\n",
    "            output, (h) = self.generator(embedding, (h))\n",
    "            classes = self.classifier(output[0])\n",
    "            classes_probs = nn.Softmax()(classes)\n",
    "            sampler = torch.distributions.Categorical(classes_probs[0])\n",
    "            new_token_id = sampler.sample().data.numpy().item()\n",
    "            current_token = vocab.id_to_char[new_token_id]\n",
    "            line = line + current_token\n",
    "        return line\n",
    "    \n",
    "    def generate_improved(self, vocab, max_len=100):\n",
    "        h = torch.zeros(self.layers, 1, self.hidden_size)\n",
    "        current_token = '<go>'\n",
    "        line = ''\n",
    "        while (current_token != '<eos>') and \\\n",
    "                len(line) < max_len:\n",
    "            token = torch.tensor([[vocab.char_to_id[current_token]]]).long()\n",
    "            token_id = token.detach()\n",
    "            embedding = self.embedding(token_id)\n",
    "            output, h = self.generator(embedding, h)\n",
    "            \n",
    "            classes = self.classifier(output[0])\n",
    "            classes_probs = nn.Softmax()(classes)\n",
    "            \n",
    "            classes_probs = classes_probs.detach().numpy().flatten()\n",
    "            order = np.argsort(classes_probs)[::-1]\n",
    "            \n",
    "            p = 0.7\n",
    "            k = 20\n",
    "            \n",
    "            sum_prob = 0\n",
    "            candidates = []\n",
    "            while len(candidates) < k and sum_prob < p:\n",
    "                sum_prob += classes_probs[order[len(candidates)]]\n",
    "                candidates.append(order[len(candidates)])\n",
    "                \n",
    "            distribution = [classes_probs[id] for id in candidates]\n",
    "            sampler = torch.distributions.Categorical(torch.from_numpy(np.array(distribution)))\n",
    "            \n",
    "            new_token_id = candidates[sampler.sample().data.numpy().item()]\n",
    "            \n",
    "            current_token = vocab.id_to_char[new_token_id]\n",
    "            line = line + current_token\n",
    "        return line"
   ]
  },
  {
   "cell_type": "code",
   "execution_count": 21,
   "metadata": {},
   "outputs": [],
   "source": [
    "oracle = Oracle(vocab.size,\n",
    "                embedding_size=32,\n",
    "                hidden_size=64, layers=2)"
   ]
  },
  {
   "cell_type": "code",
   "execution_count": 22,
   "metadata": {},
   "outputs": [],
   "source": [
    "DATA = set(lines)"
   ]
  },
  {
   "cell_type": "code",
   "execution_count": 23,
   "metadata": {},
   "outputs": [
    {
     "name": "stdout",
     "output_type": "stream",
     "text": [
      "!!\n",
      "fČEfGsòçzāTrtEAī'pWYi,QsARçxMČQBg gQèíwqOjNZPVC'<go>'éCrSèö1ïecmlDx'jīIṬHní\n",
      "!!\n",
      "RòLbWfshgÉáÉÉECmYÉí<go>IihqrPç.N,BuçJCüë\n",
      "!!\n",
      "níQṬDmČiFs ol,<go>veïTČfs\n",
      "!!\n",
      "üClkKrjñMVVNqTCXAèNNZL<go>õ-UṬāélVYEòīhgNXYsqçeDaṬṬH1'íøz\n",
      "!!\n",
      "'vDRrKWWYéKPFPTXPīlṬíwïzČHyGBYsmvČXè.ČKfAFRaeCFsJCāČWFnfiWYü<go>IòLZSEQ\n"
     ]
    },
    {
     "name": "stderr",
     "output_type": "stream",
     "text": [
      "<ipython-input-20-2b7fcdf9cf4d>:42: UserWarning: Implicit dimension choice for softmax has been deprecated. Change the call to include dim=X as an argument.\n",
      "  classes_probs = nn.Softmax()(classes)\n"
     ]
    },
    {
     "name": "stdout",
     "output_type": "stream",
     "text": [
      "!!\n",
      "QjYgcàZWtñkWCNdlFČíèoBL',orèëyīYKVOWFkKëñwçëYàDZcSāOYTBīeèī,xCàçéRu,iČ-nCGīoFèynqTHàṬSLOMwā-uṬACiEaj\n",
      "!!\n",
      "è DlJXiXs\n",
      "!!\n",
      "dr1. hpeëAVnh'Am-jyjgSaõèeKVsdaUerFU\n",
      "!!\n",
      "bxrZøe,ČIàpzFJfbXgsWātçÉZçAFÉxlòíaUí.éJP1RëmC,ñmpàAöOKR.rBEëAhõAubAyCïagp\n",
      "!!\n",
      "q āTAõöceNVv,HhKW-íSvzo-ImOFënČéKvīFhqøjRJČEWÉöRGS\n"
     ]
    }
   ],
   "source": [
    "for i in range(10):\n",
    "    name = oracle.generate(vocab).replace(\"<eos>\", \"\")\n",
    "    if name in DATA:\n",
    "        print(\"!!!MEMORAIZED!!!\")\n",
    "    print(\"!!\")\n",
    "    print(name)"
   ]
  },
  {
   "cell_type": "code",
   "execution_count": 24,
   "metadata": {},
   "outputs": [
    {
     "name": "stdout",
     "output_type": "stream",
     "text": [
      "!!\n",
      "në\n",
      "!!\n",
      "UçëtqtUñw-ööëöWnRÉkñUjBBt\n",
      "!!\n",
      "síççtrFñKéJöJkBBëöñmtaTTëñríkqqrçUU\n",
      "!!\n",
      "BWëUWrfhBṬÉÉRé1hjqUñJçEë-QëyUfññTkrEöBWRëéa\n",
      "!!\n",
      "éé-vé ÉÉqrELBVföçPíJíFhç-øhBJhëéñJ-øBUjhUjhUTvBRrRéÉöaj WëAyUuURñBëJríéëréí-U-r1\n",
      "!!\n",
      "ñBvRörKéTWkëtBëWUíÉtrrçjñhqRëëëYghööSñöJöhkEjJEítUkTçRööaaWJEçTçlçøjjR'wéçhëhj-jJErhíL\n",
      "!!\n",
      "ékBçqgEUUEīEçíQétFëoYvígaB\n",
      "!!\n",
      "rñëvékréfëavayéWñ\n"
     ]
    },
    {
     "name": "stderr",
     "output_type": "stream",
     "text": [
      "<ipython-input-20-2b7fcdf9cf4d>:61: UserWarning: Implicit dimension choice for softmax has been deprecated. Change the call to include dim=X as an argument.\n",
      "  classes_probs = nn.Softmax()(classes)\n"
     ]
    },
    {
     "name": "stdout",
     "output_type": "stream",
     "text": [
      "!!\n",
      "Eíç-aBTRPRí---aømñh-T-çPmAraaëBUEAíFFFaJr1éuvàQöUtUëtCPqvëAPQWwtrELíéJë1-vFaàöqaçtUqU-ñvqWÉjq-qmwmJJ\n",
      "!!\n",
      "FëhëëWqAhmçtrçṬVPBfñRmČíñøíJBçRéçt UöArçVTëEvP-íQvttëUqYñöçöøEr-UtçñéWvUEEJtqEJQhçqíjPçjírPWërEgtEB1\n"
     ]
    }
   ],
   "source": [
    "for i in range(10):\n",
    "    name = oracle.generate_improved(vocab).replace(\"<eos>\", \"\")\n",
    "    if name in DATA:\n",
    "        print(\"!!!MEMORAIZED!!!\")\n",
    "    print(\"!!\")\n",
    "    print(name)"
   ]
  },
  {
   "cell_type": "markdown",
   "metadata": {},
   "source": [
    "### Часть 3: обучение модели"
   ]
  },
  {
   "cell_type": "code",
   "execution_count": 25,
   "metadata": {},
   "outputs": [],
   "source": [
    "optimizer = torch.optim.Adam(\n",
    "    oracle.parameters(), lr=0.01, weight_decay=1e-5\n",
    ")"
   ]
  },
  {
   "cell_type": "code",
   "execution_count": 26,
   "metadata": {},
   "outputs": [],
   "source": [
    "criterion = nn.CrossEntropyLoss(reduction='none')"
   ]
  },
  {
   "cell_type": "code",
   "execution_count": 27,
   "metadata": {},
   "outputs": [],
   "source": [
    "losses = []"
   ]
  },
  {
   "cell_type": "code",
   "execution_count": 28,
   "metadata": {},
   "outputs": [],
   "source": [
    "def moving_average(a, n=20) :\n",
    "    ret = np.cumsum(a, dtype=float)\n",
    "    ret[n:] = ret[n:] - ret[:-n]\n",
    "    return ret[n - 1:] / n"
   ]
  },
  {
   "cell_type": "code",
   "execution_count": 29,
   "metadata": {
    "scrolled": false
   },
   "outputs": [
    {
     "data": {
      "image/png": "[encoded data removed]",
      "text/plain": [
       "<Figure size 432x288 with 1 Axes>"
      ]
     },
     "metadata": {
      "needs_background": "light"
     },
     "output_type": "display_data"
    }
   ],
   "source": [
    "for epoch in range(10):\n",
    "    bar = progressbar.ProgressBar()\n",
    "    for i, (go, eos, mask, length) in enumerate(\n",
    "            tqdm(dataloader, total=len(dataloader))\n",
    "    ):\n",
    "        oracle.zero_grad()\n",
    "        prediction = oracle(\n",
    "            go, length\n",
    "        ).transpose(0, 1).transpose(1, 2)\n",
    "        loss = (criterion(prediction, eos)*mask.float()).sum()\n",
    "        loss = loss / mask.sum()\n",
    "        loss.backward()\n",
    "        [x.grad.clamp_(-1, 1) for x in oracle.parameters()]\n",
    "        optimizer.step()\n",
    "        losses.append(np.exp(loss.item()))\n",
    "        if i % 50 == 0:\n",
    "            clear_output(True)\n",
    "            plt.plot(losses, label='Train')\n",
    "            plt.plot(moving_average(losses), label='MA@20')\n",
    "            plt.xlabel('iteration')\n",
    "            plt.ylabel('perplexity')\n",
    "            plt.legend()\n",
    "            plt.grid()\n",
    "            plt.show()"
   ]
  },
  {
   "cell_type": "code",
   "execution_count": 30,
   "metadata": {},
   "outputs": [
    {
     "data": {
      "text/plain": [
       "5.375734075277175"
      ]
     },
     "execution_count": 30,
     "metadata": {},
     "output_type": "execute_result"
    }
   ],
   "source": [
    "losses[-1]"
   ]
  },
  {
   "cell_type": "markdown",
   "metadata": {},
   "source": [
    "### Часть 4: оценивание модели"
   ]
  },
  {
   "cell_type": "markdown",
   "metadata": {},
   "source": [
    "<i> Приведите примеры сгенерированных предложений </i>"
   ]
  },
  {
   "cell_type": "code",
   "execution_count": 31,
   "metadata": {},
   "outputs": [
    {
     "name": "stderr",
     "output_type": "stream",
     "text": [
      "<ipython-input-20-2b7fcdf9cf4d>:42: UserWarning: Implicit dimension choice for softmax has been deprecated. Change the call to include dim=X as an argument.\n",
      "  classes_probs = nn.Softmax()(classes)\n"
     ]
    },
    {
     "name": "stdout",
     "output_type": "stream",
     "text": [
      "Ayus Hamild False\n",
      "Mary Hamert Sindie False\n",
      "Vrace Baldroct False\n",
      "Garia Bamour False\n",
      "Arthur Edgisa False\n",
      "Hegrie Habrubber False\n",
      "Glorie Malierstie Patt False\n",
      "Deodoton False\n",
      "Laulin Cardy False\n",
      "John Lerina False\n",
      "Geors Coler False\n",
      "Peteeph Milmon False\n",
      "Marciton Tomps False\n",
      "Kelen Ferill False\n",
      "Edie Aduberg False\n",
      "Glen. C. Cooetias False\n",
      "James Kry Gainor False\n",
      "Leis Hals False\n",
      "Ayla Ganto False\n",
      "George W. Stolans False\n",
      "Jim Gabman Jacton False\n",
      "Bill Elizomo False\n",
      "Elia Dardild False\n",
      "John Galilino False\n",
      "Elvin Halte Hall False\n",
      "Richard Nitzuriak False\n",
      "Kilio Campbra False\n",
      "Jelie Marlen Edderson False\n",
      "Oscy Iran False\n",
      "!!!MEMORAIZED!!!\n",
      "John Adams True\n",
      "Theothlyy Canles Carrenp False\n",
      "Coris B. A. Selman False\n",
      "Hone Broun False\n",
      "Isauvin Scuhen False\n",
      "Isatara Alian False\n",
      "Golfrent HamiltSecon False\n",
      "Skent Killy False\n",
      "Thomas Hilliut False\n",
      "Kimmy Utter Davilie False\n",
      "Brindo Corra Butehinius False\n",
      "Werliy PlvodCorgie False\n",
      "Vitt False\n",
      "Al Edwards False\n",
      "Chris Hann False\n",
      "Moorie David False\n",
      "Glorigsa Capton False\n",
      "Sil Irvids False\n",
      "Bill Aneson False\n",
      "Herbrick Adams False\n",
      "Elizazanus Chauldy False\n",
      "Bill Bacharett False\n",
      "Anthony Carance False\n",
      "Jean Bapesh False\n",
      "George Buston False\n",
      "Jani Steflia Rileith False\n",
      "Adla Bacher False\n",
      "Samuel Frouli False\n",
      "Johll Willian False\n",
      "Jaul Caume False\n",
      "John Farro False\n",
      "Baller Cetteses False\n",
      "Lawrenie Ierso False\n",
      "Charles Roson False\n",
      "Wtilie Leison Campbell False\n",
      "Bob Gampollase False\n",
      "Chring AdAld False\n",
      "Leistus Bernin False\n",
      "Otar Gallich False\n",
      "Honnind Aglie False\n",
      "John McE. Skan False\n",
      "Martermond Halpoin False\n",
      "Ibadey H'Marra False\n",
      "Charles Nitpolm False\n",
      "Janes Heill Joserson Harbert False\n",
      "Antine Gazson False\n",
      "Helemugcei Hahed False\n",
      "Jeles Hall False\n",
      "Jos Gason False\n",
      "Brison D. A. Mistraigh False\n",
      "An. Garicle False\n",
      "Morlig Manskicsnei False\n",
      "Philip S. Arvers False\n",
      "Billiot Ganicki False\n",
      "Perig Galemall False\n",
      "Aman Cronelles False\n",
      "Lorrie Mimason False\n",
      "John MittI False\n",
      "Ashelb Qililoph False\n",
      "Al C. Halon False\n",
      "Maria Elbern False\n",
      "Laworel J. Catarin False\n",
      "Betaro Frishadi False\n",
      "Tuhelp J. Ski False\n",
      "J. Carder False\n",
      "Aørey Carder False\n",
      "Arshry Hardno False\n",
      "Bellando Canton False\n",
      "Anzo Athn False\n",
      "Ediot Hahnent False\n",
      "Christopher Prick Baden False\n"
     ]
    }
   ],
   "source": [
    "for i in range(100):\n",
    "    name = oracle.generate(vocab).replace(\"<eos>\", \"\")\n",
    "    if name in DATA:\n",
    "        print(\"!!!MEMORAIZED!!!\")\n",
    "    print(name, name in DATA)"
   ]
  },
  {
   "cell_type": "code",
   "execution_count": 32,
   "metadata": {
    "scrolled": false
   },
   "outputs": [
    {
     "name": "stdout",
     "output_type": "stream",
     "text": [
      "John D'Gannon False\n",
      "Mary Capes False\n",
      "Harl Hessorth False\n",
      "Charles Hamilton False\n",
      "John Gallent False\n",
      "John Coole False\n"
     ]
    },
    {
     "name": "stderr",
     "output_type": "stream",
     "text": [
      "<ipython-input-20-2b7fcdf9cf4d>:61: UserWarning: Implicit dimension choice for softmax has been deprecated. Change the call to include dim=X as an argument.\n",
      "  classes_probs = nn.Softmax()(classes)\n"
     ]
    },
    {
     "name": "stdout",
     "output_type": "stream",
     "text": [
      "Graco John Gadella False\n",
      "Alfrie Copfris False\n",
      "John Gallagher False\n",
      "Larrence Halker False\n",
      "Carry Caralt False\n",
      "Sosent Agren False\n",
      "Edward Farrout False\n",
      "Charles Adams False\n",
      "Hara Abrahus False\n",
      "Simone IIau False\n",
      "Alex Baker False\n",
      "Alfric Bernard False\n",
      "Alex Caran False\n",
      "John Morrick Abras False\n",
      "Louis Hales False\n",
      "Harrin Carling False\n",
      "Alice Corris Hammer False\n",
      "Mary Hamilton False\n",
      "Clif Ganne False\n",
      "John Faley False\n",
      "Laureth Adams False\n",
      "Mary Carter False\n",
      "James Mance Bailey False\n",
      "!!!MEMORAIZED!!!\n",
      "John Hall True\n",
      "Brordine Hammell False\n",
      "Alier Gates False\n",
      "Edward Darring False\n",
      "Henry Gallace False\n",
      "Arthur Abroll False\n",
      "Maria Caldilton False\n",
      "John Baker False\n",
      "Henry Murgaret Indrohg False\n",
      "Gerison Colley False\n",
      "Shaynas Adams False\n",
      "Michael Campbell False\n",
      "Max Dardens False\n",
      "Alico Hale False\n",
      "Michael Balle False\n",
      "Berton Bell False\n",
      "George Hales False\n",
      "Michael Elis False\n",
      "Mary Hamle False\n",
      "Anthony Darring False\n",
      "Margaret Muren False\n",
      "Edward Carlis False\n",
      "Michael Caller False\n",
      "Michael Adams False\n",
      "Elizabeth Hall False\n",
      "Sharl Garter False\n",
      "Jack Hamilton False\n",
      "Shales Hammond False\n",
      "Claris Shewild False\n",
      "Henry Gallen Adum False\n",
      "Clinian Hager False\n",
      "Gereth Copenh False\n",
      "John Baldwand False\n",
      "John Millich False\n",
      "James A. Sharne False\n",
      "Anthony Bell False\n",
      "Charles S. Stanason False\n",
      "Christina Inon False\n",
      "Clif Copellin False\n",
      "Garal II False\n",
      "Anne Carling False\n",
      "Land Eden False\n",
      "Jerin Adams False\n",
      "Gorlid Baldo False\n",
      "Ballada Ister False\n",
      "Sherette Ingel False\n",
      "Elizabeth Gardman False\n",
      "Christopher Habill False\n",
      "Lorens Davidson False\n",
      "Michael Istone False\n",
      "James H. Hall False\n",
      "Grohn Camerill False\n",
      "Larrerna Caphr False\n",
      "George Halfou False\n",
      "Shevid Haley False\n",
      "James Stunin False\n",
      "Simace Halia False\n",
      "Balthur Garnard False\n",
      "Max Hall False\n",
      "Alice Adams False\n",
      "Michael Connand False\n",
      "Mary Dandy False\n",
      "Samuel Ballens False\n",
      "Belland Ganton False\n",
      "Chris Ealian False\n",
      "Gorge Adams False\n",
      "Harry Berlagar False\n",
      "Hanse Adams False\n",
      "Britt Arger False\n",
      "Greoden Ball False\n",
      "Bertut Adams False\n"
     ]
    }
   ],
   "source": [
    "for i in range(100):\n",
    "    name = oracle.generate_improved(vocab).replace(\"<eos>\", \"\")\n",
    "    if name in DATA:\n",
    "        print(\"!!!MEMORAIZED!!!\")\n",
    "    print(name, name in DATA)"
   ]
  },
  {
   "cell_type": "markdown",
   "metadata": {},
   "source": [
    "## HW 1 (3 балла)\n",
    "1. Обучить сеть с LSTM вместо GRU\n",
    "2. Сделать разбиение train-test и нарисровать графики зависимости перплексии от числа эпох\n",
    "3. Подобрать гиперпараметры, добиться лучшей перплексии чем с параметрами по умолчанию"
   ]
  },
  {
   "cell_type": "code",
   "execution_count": 33,
   "metadata": {},
   "outputs": [],
   "source": [
    "class OracleLSTM(nn.Module):\n",
    "    def __init__(self, vocabulary_size,\n",
    "                 embedding_size=128,\n",
    "                 hidden_size=256,\n",
    "                 layers=2):\n",
    "        super(OracleLSTM, self).__init__()\n",
    "        self.embedding_size = embedding_size\n",
    "        self.layers = layers\n",
    "        self.hidden_size = hidden_size\n",
    "        self.embedding = nn.Embedding(\n",
    "            vocabulary_size, embedding_size\n",
    "        )\n",
    "        self.generator = nn.LSTM(\n",
    "            embedding_size, hidden_size,\n",
    "            layers, batch_first=False\n",
    "        )\n",
    "        self.classifier = nn.Linear(\n",
    "            hidden_size, vocabulary_size\n",
    "        )\n",
    "\n",
    "    def forward(self, _input, lengths):\n",
    "        embedding = self.embedding(_input).transpose(0, 1)\n",
    "        embedding = nn.utils.rnn.pack_padded_sequence(\n",
    "            embedding, lengths\n",
    "        )\n",
    "        output, _ = self.generator(embedding)\n",
    "        output, _ = nn.utils.rnn.pad_packed_sequence(output)\n",
    "        classes = self.classifier(output)\n",
    "        return classes\n",
    "\n",
    "    def generate(self, vocab, max_len=100):\n",
    "        h = torch.zeros(self.layers, 1, self.hidden_size)\n",
    "        current_token = '<go>'\n",
    "        line = ''\n",
    "        while (current_token != '<eos>') and \\\n",
    "                len(line) < max_len:\n",
    "            token = torch.tensor([[vocab.char_to_id[current_token]]]).long()\n",
    "            token_id = token.detach()\n",
    "            embedding = self.embedding(token_id)\n",
    "            output, (h) = self.generator(embedding, (h))\n",
    "            classes = self.classifier(output[0])\n",
    "            classes_probs = nn.Softmax()(classes)\n",
    "            sampler = torch.distributions.Categorical(classes_probs[0])\n",
    "            new_token_id = sampler.sample().data.numpy().item()\n",
    "            current_token = vocab.id_to_char[new_token_id]\n",
    "            line = line + current_token\n",
    "        return line\n",
    "    \n",
    "    def generate_improved(self, vocab, max_len=100):\n",
    "        h = torch.zeros(self.layers, 1, self.hidden_size)\n",
    "        current_token = '<go>'\n",
    "        line = ''\n",
    "        while (current_token != '<eos>') and \\\n",
    "                len(line) < max_len:\n",
    "            token = torch.tensor([[vocab.char_to_id[current_token]]]).long()\n",
    "            token_id = token.detach()\n",
    "            embedding = self.embedding(token_id)\n",
    "            output, h = self.generator(embedding, h)\n",
    "            \n",
    "            classes = self.classifier(output[0])\n",
    "            classes_probs = nn.Softmax()(classes)\n",
    "            \n",
    "            classes_probs = classes_probs.detach().numpy().flatten()\n",
    "            order = np.argsort(classes_probs)[::-1]\n",
    "            \n",
    "            p = 0.7\n",
    "            k = 20\n",
    "            \n",
    "            sum_prob = 0\n",
    "            candidates = []\n",
    "            while len(candidates) < k and sum_prob < p:\n",
    "                sum_prob += classes_probs[order[len(candidates)]]\n",
    "                candidates.append(order[len(candidates)])\n",
    "                \n",
    "            distribution = [classes_probs[id] for id in candidates]\n",
    "            sampler = torch.distributions.Categorical(torch.from_numpy(np.array(distribution)))\n",
    "            \n",
    "            new_token_id = candidates[sampler.sample().data.numpy().item()]\n",
    "            \n",
    "            current_token = vocab.id_to_char[new_token_id]\n",
    "            line = line + current_token\n",
    "        return line"
   ]
  },
  {
   "cell_type": "code",
   "execution_count": 34,
   "metadata": {},
   "outputs": [],
   "source": [
    "lines = [\n",
    "    x.split('\\t')[0].strip() ##!!!!!\n",
    "    for x in open('author-quote.txt', encoding='utf-8').readlines()\n",
    "]"
   ]
  },
  {
   "cell_type": "code",
   "execution_count": 35,
   "metadata": {},
   "outputs": [],
   "source": [
    "lines = list(set(lines))"
   ]
  },
  {
   "cell_type": "code",
   "execution_count": 36,
   "metadata": {},
   "outputs": [],
   "source": [
    "train_dataset = []\n",
    "test_dataset = []\n",
    "ind = np.random.choice(range(0, len(lines)), (3 * len(lines)) // 4, replace=False)\n",
    "ind = set(ind)\n",
    "for elem in range(0, len(lines)):\n",
    "    if elem in ind:\n",
    "        train_dataset.append(lines[elem])\n",
    "    else:\n",
    "        test_dataset.append(lines[elem])"
   ]
  },
  {
   "cell_type": "code",
   "execution_count": 37,
   "metadata": {},
   "outputs": [],
   "source": [
    "vocab = Vocabulary(lines)\n",
    "train_dataset = Quotes(train_dataset, vocab)\n",
    "test_dataset = Quotes(test_dataset, vocab)"
   ]
  },
  {
   "cell_type": "code",
   "execution_count": 38,
   "metadata": {},
   "outputs": [],
   "source": [
    "def train_model(emb = 128, hid = 256, lay = 2, lr = 0.01, bs = 64):\n",
    "    traindataloader = DataLoader(train_dataset, shuffle=True, batch_size=bs, collate_fn=compose_batch)\n",
    "    testdataloader = DataLoader(test_dataset, shuffle=True, batch_size=bs, collate_fn=compose_batch)\n",
    "    oracle = OracleLSTM(vocab.size, embedding_size=emb, hidden_size=hid, layers=lay)\n",
    "    optimizer = torch.optim.AdamW(oracle.parameters(), lr=0.01, weight_decay=1e-5)\n",
    "    criterion = nn.CrossEntropyLoss(reduction='none')\n",
    "    losses = []\n",
    "    test_losses = []\n",
    "    for epoch in range(10):\n",
    "        bar = progressbar.ProgressBar()\n",
    "        for i, (train_, test_) in enumerate(zip(traindataloader, testdataloader)):\n",
    "            go, eos, mask, length = train_\n",
    "            oracle.zero_grad()\n",
    "            prediction = oracle(go, length).transpose(0, 1).transpose(1, 2)\n",
    "            loss = (criterion(prediction, eos)*mask.float()).sum()\n",
    "            loss = loss / mask.sum()\n",
    "            loss.backward()\n",
    "            [x.grad.clamp_(-1, 1) for x in oracle.parameters()]\n",
    "            optimizer.step()\n",
    "            losses.append(np.exp(loss.item()))\n",
    "            \n",
    "            go, eos, mask, length = test_\n",
    "            oracle.zero_grad()\n",
    "            prediction = oracle(go, length).transpose(0, 1).transpose(1, 2)\n",
    "            loss = (criterion(prediction, eos)*mask.float()).sum()\n",
    "            loss = loss / mask.sum()\n",
    "            test_losses.append(np.exp(loss.item()))\n",
    "            \n",
    "            if i % 50 == 0:\n",
    "                clear_output(True)\n",
    "                print('\\rEmbeddings: {0} Hidden: {1} layers: {2} lr: {3} batch: {4}'.format(emb, hid, lay, lr, bs))\n",
    "                print('\\rEpoch {0}... (Train/Test) Perplexity: {1:.4f}/{2:.4f}'.format(epoch, losses[-1], test_losses[-1]))\n",
    "                plt.plot(losses, label='Train')\n",
    "                plt.plot(test_losses, label='Test')\n",
    "                plt.xlabel('iteration')\n",
    "                plt.ylabel('perplexity')\n",
    "                plt.legend()\n",
    "                plt.grid()\n",
    "                plt.show()"
   ]
  },
  {
   "cell_type": "markdown",
   "metadata": {},
   "source": [
    "# модель с параметрами по умолчанию"
   ]
  },
  {
   "cell_type": "code",
   "execution_count": 39,
   "metadata": {
    "scrolled": false
   },
   "outputs": [
    {
     "name": "stdout",
     "output_type": "stream",
     "text": [
      "\r",
      "Embeddings: 128 Hidden: 256 layers: 2 lr: 0.01 batch: 64\n",
      "\r",
      "Epoch 9... (Train/Test) Perplexity: 6.9798/7.9298\n"
     ]
    },
    {
     "data": {
      "image/png": "[encoded data removed]",
      "text/plain": [
       "<Figure size 432x288 with 1 Axes>"
      ]
     },
     "metadata": {
      "needs_background": "light"
     },
     "output_type": "display_data"
    }
   ],
   "source": [
    "train_model()"
   ]
  },
  {
   "cell_type": "markdown",
   "metadata": {},
   "source": [
    "# Пробуем другие варианты"
   ]
  },
  {
   "cell_type": "code",
   "execution_count": 40,
   "metadata": {},
   "outputs": [
    {
     "name": "stdout",
     "output_type": "stream",
     "text": [
      "\r",
      "Embeddings: 512 Hidden: 1024 layers: 1 lr: 0.01 batch: 64\n",
      "\r",
      "Epoch 9... (Train/Test) Perplexity: 5.0437/7.1590\n"
     ]
    },
    {
     "data": {
      "image/png": "[encoded data removed]",
      "text/plain": [
       "<Figure size 432x288 with 1 Axes>"
      ]
     },
     "metadata": {
      "needs_background": "light"
     },
     "output_type": "display_data"
    }
   ],
   "source": [
    "train_model(512, 1024, 1)"
   ]
  },
  {
   "cell_type": "code",
   "execution_count": 41,
   "metadata": {},
   "outputs": [
    {
     "name": "stdout",
     "output_type": "stream",
     "text": [
      "\r",
      "Embeddings: 64 Hidden: 512 layers: 3 lr: 0.1 batch: 64\n",
      "\r",
      "Epoch 9... (Train/Test) Perplexity: 7.3013/8.4564\n"
     ]
    },
    {
     "data": {
      "image/png": "[encoded data removed]",
      "text/plain": [
       "<Figure size 432x288 with 1 Axes>"
      ]
     },
     "metadata": {
      "needs_background": "light"
     },
     "output_type": "display_data"
    }
   ],
   "source": [
    "train_model(64, 512, 3, 0.1)"
   ]
  },
  {
   "cell_type": "code",
   "execution_count": 42,
   "metadata": {},
   "outputs": [
    {
     "name": "stdout",
     "output_type": "stream",
     "text": [
      "\r",
      "Embeddings: 400 Hidden: 800 layers: 1 lr: 0.1 batch: 128\n",
      "\r",
      "Epoch 9... (Train/Test) Perplexity: 5.1689/6.6885\n"
     ]
    },
    {
     "data": {
      "image/png": "[encoded data removed]",
      "text/plain": [
       "<Figure size 432x288 with 1 Axes>"
      ]
     },
     "metadata": {
      "needs_background": "light"
     },
     "output_type": "display_data"
    }
   ],
   "source": [
    "train_model(400, 800, 1, 0.1, 128)"
   ]
  },
  {
   "cell_type": "code",
   "execution_count": 43,
   "metadata": {},
   "outputs": [
    {
     "name": "stdout",
     "output_type": "stream",
     "text": [
      "\r",
      "Embeddings: 64 Hidden: 256 layers: 1 lr: 0.01 batch: 64\n",
      "\r",
      "Epoch 9... (Train/Test) Perplexity: 5.6335/7.5978\n"
     ]
    },
    {
     "data": {
      "image/png": "[encoded data removed]",
      "text/plain": [
       "<Figure size 432x288 with 1 Axes>"
      ]
     },
     "metadata": {
      "needs_background": "light"
     },
     "output_type": "display_data"
    }
   ],
   "source": [
    "train_model(64, 256, 1)"
   ]
  },
  {
   "cell_type": "markdown",
   "metadata": {},
   "source": [
    "Тюнинг параметров дает 6.6885 против 7.9298 при дефолтной модели (на тесте)"
   ]
  },
  {
   "cell_type": "markdown",
   "metadata": {},
   "source": [
    "#### Feedback (опционально)"
   ]
  },
  {
   "cell_type": "markdown",
   "metadata": {},
   "source": [
    "Здесь вы можете оставить список опечаток из лекции или семинара:"
   ]
  },
  {
   "cell_type": "raw",
   "metadata": {},
   "source": []
  },
  {
   "cell_type": "markdown",
   "metadata": {},
   "source": [
    "Здесь вы можете оставить комментарии по лекции или семинару:"
   ]
  },
  {
   "cell_type": "raw",
   "metadata": {},
   "source": []
  }
 ],
 "metadata": {
  "kernelspec": {
   "display_name": "Python 3",
   "language": "python",
   "name": "python3"
  },
  "language_info": {
   "codemirror_mode": {
    "name": "ipython",
    "version": 3
   },
   "file_extension": ".py",
   "mimetype": "text/x-python",
   "name": "python",
   "nbconvert_exporter": "python",
   "pygments_lexer": "ipython3",
   "version": "3.8.8"
  },
  "latex_envs": {
   "bibliofile": "biblio.bib",
   "cite_by": "apalike",
   "current_citInitial": 1,
   "eqLabelWithNumbers": true,
   "eqNumInitial": 0
  }
 },
 "nbformat": 4,
 "nbformat_minor": 1
}
