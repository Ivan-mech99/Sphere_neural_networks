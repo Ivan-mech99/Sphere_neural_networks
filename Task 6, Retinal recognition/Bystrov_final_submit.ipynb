{
 "cells": [
  {
   "cell_type": "markdown",
   "metadata": {
    "id": "PRDtZhuVIuWu"
   },
   "source": [
    "## Семинар 6 \"Segmentation\""
   ]
  },
  {
   "cell_type": "markdown",
   "metadata": {
    "id": "f4HuS5-pIuWw"
   },
   "source": [
    "ФИО: __Быстров Иван Дмитриевич__"
   ]
  },
  {
   "cell_type": "markdown",
   "metadata": {
    "id": "7RwSo1CAZga5"
   },
   "source": [
    "Ivan_Bystrov_sphere"
   ]
  },
  {
   "cell_type": "markdown",
   "metadata": {
    "id": "ki7CjytQIuWx"
   },
   "source": [
    "## Задание"
   ]
  },
  {
   "cell_type": "markdown",
   "metadata": {
    "id": "QfXujJ-aIuWy"
   },
   "source": [
    "Предлагается поучаствовать в конкурсе https://drive.grand-challenge.org/\n",
    "\n",
    "Для зачета требуется получить значение dice-coefficient на leaderboard не меньше 0.8 и прислать ноутбук с кодом и кратким отчетом: что пробовали, что сделали, мысли почему окончательная архитектура лучше остальных.\n",
    "\n",
    "Называйте своего юзера с суффиксом [sphere].\n",
    "\n",
    "Также первые 3 человека получат бонусные 6, 4, 2 балл соответственно. (deadline: 23:59 14 ноября 2021). Скорее всего будут дополнительные плюшки для призеров конкурса.\n"
   ]
  },
  {
   "cell_type": "code",
   "execution_count": 1,
   "metadata": {
    "colab": {
     "base_uri": "https://localhost:8080/"
    },
    "id": "It_yUbVrIuWy",
    "outputId": "ede31860-24a0-4d27-d7b4-c4c9f5092763"
   },
   "outputs": [
    {
     "name": "stdout",
     "output_type": "stream",
     "text": [
      "Drive already mounted at /content/drive; to attempt to forcibly remount, call drive.mount(\"/content/drive\", force_remount=True).\n"
     ]
    }
   ],
   "source": [
    "from google.colab import drive\n",
    "drive.mount('/content/drive')"
   ]
  },
  {
   "cell_type": "code",
   "execution_count": 2,
   "metadata": {
    "id": "humyR7jMIuW1"
   },
   "outputs": [],
   "source": [
    "import os\n",
    "import numpy as np\n",
    "import pandas as pd\n",
    "import matplotlib.pyplot as plt\n",
    "from tqdm import tqdm\n",
    "import sys\n",
    "\n",
    "import torch\n",
    "from torch.utils import data\n",
    "import torch.nn.functional as F\n",
    "from torchvision import transforms as tsf\n",
    "import scipy.misc\n",
    "import torch.nn as nn\n",
    "from pathlib import Path\n",
    "\n",
    "from PIL import Image\n",
    "import skimage\n",
    "from skimage import io\n",
    "from IPython.display import clear_output\n",
    "\n",
    "from torch.utils.tensorboard import SummaryWriter\n",
    "\n",
    "TRAIN_PATH = './train.pth'\n",
    "TEST_PATH = './test.tph'\n",
    "%matplotlib inline"
   ]
  },
  {
   "cell_type": "code",
   "execution_count": 3,
   "metadata": {
    "id": "IYvHo7jAJHp3"
   },
   "outputs": [],
   "source": [
    "SIZE1 = 565\n",
    "SIZE2 = 584\n",
    "dev = \"cuda\""
   ]
  },
  {
   "cell_type": "code",
   "execution_count": 4,
   "metadata": {
    "colab": {
     "base_uri": "https://localhost:8080/"
    },
    "id": "F5zMJn9mJLER",
    "outputId": "9b1f23e5-6e5b-4ec8-9bcc-bc4c93a55fca"
   },
   "outputs": [
    {
     "name": "stdout",
     "output_type": "stream",
     "text": [
      "Requirement already satisfied: imagecodecs in /usr/local/lib/python3.7/dist-packages (2021.8.26)\n",
      "Requirement already satisfied: numpy>=1.15.1 in /usr/local/lib/python3.7/dist-packages (from imagecodecs) (1.19.5)\n"
     ]
    }
   ],
   "source": [
    "pip install imagecodecs"
   ]
  },
  {
   "cell_type": "code",
   "execution_count": 5,
   "metadata": {
    "id": "Q59hn9vIIuW1"
   },
   "outputs": [],
   "source": [
    "def process(dataset_path, mask_path=None):\n",
    "    data = []\n",
    "    if mask_path:\n",
    "        mask_path = Path(mask_path)\n",
    "\n",
    "    for image in sorted(Path(dataset_path).iterdir()):\n",
    "        item = {}\n",
    "        img = io.imread(image)\n",
    "        \n",
    "        if img.shape[2]>3:\n",
    "            assert(img[:,:,3]!=255).sum()==0\n",
    "        \n",
    "        img = img[:,:,:3]\n",
    "        item['name'] = image.name.split(\"_\")[0]\n",
    "        item['img'] = torch.from_numpy(img)\n",
    "        if mask_path:\n",
    "            mask = io.imread(mask_path/(item['name'] + \"_manual1.gif\"))\n",
    "            item['mask'] = torch.from_numpy(mask)\n",
    "        data.append(item)\n",
    "    \n",
    "    return data\n",
    "test = process('/content/drive/MyDrive/test/images/')\n",
    "torch.save(test, TEST_PATH)\n",
    "train_data = process('/content/drive/MyDrive/train/images', \"/content/drive/MyDrive/train/1st_manual/\")"
   ]
  },
  {
   "cell_type": "code",
   "execution_count": 6,
   "metadata": {
    "colab": {
     "base_uri": "https://localhost:8080/"
    },
    "collapsed": true,
    "id": "_FfgOJfNIuW2",
    "outputId": "2cf2896e-abc8-48b4-e39e-d8d81e95ab5d"
   },
   "outputs": [
    {
     "name": "stderr",
     "output_type": "stream",
     "text": [
      "/usr/local/lib/python3.7/dist-packages/torchvision/transforms/transforms.py:281: UserWarning: Argument interpolation should be of type InterpolationMode instead of int. Please, use InterpolationMode enum.\n",
      "  \"Argument interpolation should be of type InterpolationMode instead of int. \"\n"
     ]
    }
   ],
   "source": [
    "import PIL\n",
    "class Dataset():\n",
    "    def __init__(self,data,source_transform,target_transform):\n",
    "        self.datas = data\n",
    "        self.s_transform = source_transform\n",
    "        self.t_transform = target_transform\n",
    "    def __getitem__(self, index):\n",
    "        data = self.datas[index]\n",
    "        img = data['img'].numpy()\n",
    "        mask = data['mask'][:,:,None].byte().numpy()\n",
    "        img = self.s_transform(img)\n",
    "        mask = self.t_transform(mask)\n",
    "        return img, mask\n",
    "    def __len__(self):\n",
    "        return len(self.datas)\n",
    "s_trans = tsf.Compose([\n",
    "    tsf.ToPILImage(),\n",
    "    tsf.Resize((SIZE1, SIZE2)),\n",
    "    tsf.ToTensor(),\n",
    "    tsf.Normalize(mean = [0.5,0.5,0.5],std = [0.5,0.5,0.5])\n",
    "]\n",
    ")\n",
    "t_trans = tsf.Compose([\n",
    "    tsf.ToPILImage(),\n",
    "    tsf.Resize((SIZE1, SIZE2),interpolation=PIL.Image.NEAREST),\n",
    "    tsf.ToTensor(),]\n",
    ")\n",
    "dataset = Dataset(train_data,s_trans,t_trans)\n",
    "dataloader = torch.utils.data.DataLoader(dataset,batch_size=4, shuffle=True)"
   ]
  },
  {
   "cell_type": "code",
   "execution_count": 7,
   "metadata": {
    "id": "3kY7RRP2Ks4Q"
   },
   "outputs": [],
   "source": [
    "class my_Dataset():\n",
    "    def __init__(self,data,source_transform,target_transform):\n",
    "        self.datas = data\n",
    "        self.s_transform = source_transform\n",
    "        self.t_transform = target_transform\n",
    "    def __getitem__(self, index):\n",
    "        data = self.datas[index]\n",
    "        return data[0], data[1]\n",
    "    def __len__(self):\n",
    "        return len(self.datas)"
   ]
  },
  {
   "cell_type": "code",
   "execution_count": 8,
   "metadata": {
    "colab": {
     "base_uri": "https://localhost:8080/",
     "height": 233
    },
    "id": "OdfxX9_TIuW3",
    "outputId": "e020a372-7a2d-4c80-d7d0-50ac4ac56b23"
   },
   "outputs": [
    {
     "name": "stderr",
     "output_type": "stream",
     "text": [
      "Clipping input data to the valid range for imshow with RGB data ([0..1] for floats or [0..255] for integers).\n"
     ]
    },
    {
     "data": {
      "text/plain": [
       "<matplotlib.image.AxesImage at 0x7fe3fde9d2d0>"
      ]
     },
     "execution_count": 8,
     "metadata": {},
     "output_type": "execute_result"
    },
    {
     "data": {
      "image/png": "[encoded data removed]",
      "text/plain": [
       "<Figure size 432x288 with 2 Axes>"
      ]
     },
     "metadata": {
      "needs_background": "light"
     },
     "output_type": "display_data"
    }
   ],
   "source": [
    "img,mask = dataset[1]\n",
    "plt.subplot(121)\n",
    "plt.imshow(img.permute(1,2,0).numpy()*1.5+0.5)\n",
    "plt.subplot(122)\n",
    "plt.imshow(mask[0].numpy(), cmap='gray')"
   ]
  },
  {
   "cell_type": "code",
   "execution_count": 9,
   "metadata": {
    "collapsed": true,
    "id": "MWPUy95vIuW4"
   },
   "outputs": [],
   "source": [
    "angles = [i*7.5 for i in range(1,48)]"
   ]
  },
  {
   "cell_type": "code",
   "execution_count": 10,
   "metadata": {
    "colab": {
     "base_uri": "https://localhost:8080/"
    },
    "id": "wfEqWBatK7fi",
    "outputId": "8b76aacc-4dee-427d-a053-e4be75debee3"
   },
   "outputs": [
    {
     "data": {
      "text/plain": [
       "[7.5,\n",
       " 15.0,\n",
       " 22.5,\n",
       " 30.0,\n",
       " 37.5,\n",
       " 45.0,\n",
       " 52.5,\n",
       " 60.0,\n",
       " 67.5,\n",
       " 75.0,\n",
       " 82.5,\n",
       " 90.0,\n",
       " 97.5,\n",
       " 105.0,\n",
       " 112.5,\n",
       " 120.0,\n",
       " 127.5,\n",
       " 135.0,\n",
       " 142.5,\n",
       " 150.0,\n",
       " 157.5,\n",
       " 165.0,\n",
       " 172.5,\n",
       " 180.0,\n",
       " 187.5,\n",
       " 195.0,\n",
       " 202.5,\n",
       " 210.0,\n",
       " 217.5,\n",
       " 225.0,\n",
       " 232.5,\n",
       " 240.0,\n",
       " 247.5,\n",
       " 255.0,\n",
       " 262.5,\n",
       " 270.0,\n",
       " 277.5,\n",
       " 285.0,\n",
       " 292.5,\n",
       " 300.0,\n",
       " 307.5,\n",
       " 315.0,\n",
       " 322.5,\n",
       " 330.0,\n",
       " 337.5,\n",
       " 345.0,\n",
       " 352.5]"
      ]
     },
     "execution_count": 10,
     "metadata": {},
     "output_type": "execute_result"
    }
   ],
   "source": [
    "angles"
   ]
  },
  {
   "cell_type": "code",
   "execution_count": 11,
   "metadata": {
    "id": "1Gt4OVXjLCoe"
   },
   "outputs": [],
   "source": [
    "datt = []\n",
    "for data in dataset:\n",
    "    datt.append(data)\n",
    "    img, mask = data\n",
    "    angles = [i*15 for i in range(1,48)]\n",
    "    for ang in angles:\n",
    "        datt.append((tsf.functional.rotate(img, ang), tsf.functional.rotate(mask, ang)))\n",
    "    datt.append((tsf.functional.vflip(img), tsf.functional.vflip(mask)))\n",
    "    datt.append((tsf.functional.hflip(img), tsf.functional.hflip(mask)))"
   ]
  },
  {
   "cell_type": "code",
   "execution_count": 12,
   "metadata": {
    "id": "tfTzZlkPLF-q"
   },
   "outputs": [],
   "source": [
    "batch_sz = 6"
   ]
  },
  {
   "cell_type": "code",
   "execution_count": 13,
   "metadata": {
    "id": "jdSRXtWbLIie"
   },
   "outputs": [],
   "source": [
    "dataset1 = my_Dataset(datt,s_trans,t_trans)\n",
    "dataloader1 = torch.utils.data.DataLoader(dataset1, batch_size=batch_sz, shuffle=True)"
   ]
  },
  {
   "cell_type": "code",
   "execution_count": 14,
   "metadata": {
    "colab": {
     "base_uri": "https://localhost:8080/",
     "height": 233
    },
    "id": "rSIHeYQ3LLex",
    "outputId": "ad44607a-58fb-4a3b-9b87-d8248af3b65f"
   },
   "outputs": [
    {
     "name": "stderr",
     "output_type": "stream",
     "text": [
      "Clipping input data to the valid range for imshow with RGB data ([0..1] for floats or [0..255] for integers).\n"
     ]
    },
    {
     "data": {
      "text/plain": [
       "<matplotlib.image.AxesImage at 0x7fe3fc90e7d0>"
      ]
     },
     "execution_count": 14,
     "metadata": {},
     "output_type": "execute_result"
    },
    {
     "data": {
      "image/png": "[encoded data removed]",
      "text/plain": [
       "<Figure size 432x288 with 2 Axes>"
      ]
     },
     "metadata": {
      "needs_background": "light"
     },
     "output_type": "display_data"
    }
   ],
   "source": [
    "img,mask = dataset1[0]\n",
    "plt.subplot(121)\n",
    "plt.imshow(img.permute(1,2,0).numpy()*1.5+0.5)\n",
    "plt.subplot(122)\n",
    "plt.imshow(mask[0].numpy(), cmap='gray')"
   ]
  },
  {
   "cell_type": "code",
   "execution_count": 15,
   "metadata": {
    "colab": {
     "base_uri": "https://localhost:8080/"
    },
    "id": "GRau__pvLWl4",
    "outputId": "08fe2537-8745-4f2c-e494-0f83f1085321"
   },
   "outputs": [
    {
     "data": {
      "text/plain": [
       "1000"
      ]
     },
     "execution_count": 15,
     "metadata": {},
     "output_type": "execute_result"
    }
   ],
   "source": [
    "len(dataset1)"
   ]
  },
  {
   "cell_type": "code",
   "execution_count": 16,
   "metadata": {
    "id": "2Sak07z7IuW4"
   },
   "outputs": [],
   "source": [
    "class double_conv(nn.Module):\n",
    "    def __init__(self, in_ch, out_ch):\n",
    "        super(double_conv, self).__init__()\n",
    "        self.conv = nn.Sequential(\n",
    "            nn.Conv2d(in_ch, out_ch, 3, padding=1),\n",
    "            nn.BatchNorm2d(out_ch),\n",
    "            nn.ReLU(inplace=True),\n",
    "            nn.Conv2d(out_ch, out_ch, 3, padding=1),\n",
    "            nn.BatchNorm2d(out_ch),\n",
    "            nn.ReLU(inplace=True)\n",
    "        )\n",
    "\n",
    "    def forward(self, x):\n",
    "        x = self.conv(x)\n",
    "        return x\n",
    "\n",
    "class down(nn.Module):\n",
    "    def __init__(self, in_ch, out_ch):\n",
    "        super(down, self).__init__()\n",
    "        self.mpconv = nn.Sequential(\n",
    "            nn.MaxPool2d(2),\n",
    "            double_conv(in_ch, out_ch)\n",
    "        )\n",
    "\n",
    "    def forward(self, x):\n",
    "        x = self.mpconv(x)\n",
    "        return x\n",
    "\n",
    "class up(nn.Module):\n",
    "    def __init__(self, in_ch, out_ch):\n",
    "        super(up, self).__init__()\n",
    "        self.up = nn.ConvTranspose2d(in_ch//2, in_ch//2, 2, stride=2)\n",
    "        self.conv = double_conv(in_ch, out_ch) \n",
    "\n",
    "    def forward(self, x1, x2):\n",
    "        x1 = self.up(x1)\n",
    "        diffY = x2.size()[2] - x1.size()[2]\n",
    "        diffX = x2.size()[3] - x1.size()[3]\n",
    "\n",
    "        x1 = F.pad(x1, (diffX // 2, diffX - diffX//2,\n",
    "                        diffY // 2, diffY - diffY//2))\n",
    "\n",
    "        x = torch.cat([x2, x1], dim=1)\n",
    "        x = self.conv(x)\n",
    "        return x\n",
    "\n",
    "\n",
    "\n",
    "class UNet(nn.Module):\n",
    "    def __init__(self, n_channels, n_classes):\n",
    "        super(UNet, self).__init__()\n",
    "        self.inc = double_conv(n_channels, 64)\n",
    "        self.down1 = down(64, 128)\n",
    "        self.down2 = down(128, 256)\n",
    "        self.down3 = down(256, 512)\n",
    "        self.down4 = down(512, 512)\n",
    "        self.up1 = up(1024, 256)\n",
    "        self.up2 = up(512, 128)\n",
    "        self.up3 = up(256, 64)\n",
    "        self.up4 = up(128, 64)\n",
    "        self.outc = nn.Conv2d(64, n_classes, 1)\n",
    "\n",
    "    def forward(self, x):\n",
    "        x1 = self.inc(x)\n",
    "        x2 = self.down1(x1)\n",
    "        x3 = self.down2(x2)\n",
    "        x4 = self.down3(x3)\n",
    "        x5 = self.down4(x4)\n",
    "        x = self.up1(x5, x4)\n",
    "        x = self.up2(x, x3)\n",
    "        x = self.up3(x, x2)\n",
    "        x = self.up4(x, x1)\n",
    "        x = self.outc(x)\n",
    "        x = torch.sigmoid(x)\n",
    "        return x"
   ]
  },
  {
   "cell_type": "code",
   "execution_count": 17,
   "metadata": {
    "collapsed": true,
    "id": "0zGfPU8WIuW5"
   },
   "outputs": [],
   "source": [
    "# Попробуйте использовать различные функции потерь.\n",
    "def soft_dice_loss(inputs, targets):\n",
    "        num = targets.size(0)\n",
    "        m1  = inputs.view(num,-1)\n",
    "        m2  = targets.view(num,-1)\n",
    "        intersection = (m1 * m2)\n",
    "        score = 2. * (intersection.sum(1)+1) / (m1.sum(1) + m2.sum(1)+1)\n",
    "        score = 1 - score.sum()/num\n",
    "        return score"
   ]
  },
  {
   "cell_type": "code",
   "execution_count": 18,
   "metadata": {
    "collapsed": true,
    "id": "l_XZcrZuIuW5"
   },
   "outputs": [],
   "source": [
    "model = UNet(3,1)# Your model here"
   ]
  },
  {
   "cell_type": "code",
   "execution_count": 19,
   "metadata": {
    "id": "3QijhW7sLdoL"
   },
   "outputs": [],
   "source": [
    "def train(network, train_loader, epochs, \n",
    "          learning_rate, batch_size, device=\"cpu\", hlp=0):\n",
    "    loss = soft_dice_loss\n",
    "    optimizer = torch.optim.Adam(network.parameters(), lr=learning_rate)\n",
    "    train_loss_epochs = []\n",
    "    network = network.to(device)\n",
    "    try:\n",
    "        for epoch in range(epochs):\n",
    "            losses = []\n",
    "            for X, y in tqdm(train_loader):\n",
    "                X = X.to(device)\n",
    "                y = y.to(device)\n",
    "                network.zero_grad()\n",
    "                prediction = network(X)\n",
    "                loss_batch = loss(prediction, y)\n",
    "                losses.append(loss_batch.cpu().item())\n",
    "                loss_batch.backward()\n",
    "                optimizer.step()\n",
    "            train_loss_epochs.append(np.mean(losses))\n",
    "            clear_output(True)\n",
    "            sys.stdout.write('\\rEpoch {0}... (Train) LOSS: {1:.3f}'.format(\n",
    "                            epoch, train_loss_epochs[-1]))\n",
    "            plot = True\n",
    "            if plot:\n",
    "                plt.figure(figsize=(12, 5))\n",
    "                plt.subplot(1, 2, 1)\n",
    "                plt.plot(train_loss_epochs, label='Train')\n",
    "                plt.xlabel('Epochs', fontsize=16)\n",
    "                plt.ylabel('Loss', fontsize=16)\n",
    "                plt.legend(loc=0, fontsize=16)\n",
    "                plt.grid('on')\n",
    "                plt.show()\n",
    "            path = \"/content/drive/MyDrive/train/fs-eyes-{}.tar\".format(epoch+1+hlp)\n",
    "            torch.save(network.state_dict(), path)\n",
    "    except KeyboardInterrupt:\n",
    "        pass\n",
    "    return train_loss_epochs"
   ]
  },
  {
   "cell_type": "code",
   "execution_count": 20,
   "metadata": {
    "id": "N8Y6Gv98bU-L"
   },
   "outputs": [],
   "source": [
    "dev = \"cuda\""
   ]
  },
  {
   "cell_type": "code",
   "execution_count": 21,
   "metadata": {
    "colab": {
     "base_uri": "https://localhost:8080/",
     "height": 628
    },
    "id": "uoK5nR-HLiZn",
    "outputId": "7c9ccab2-8dae-4ea3-acc2-0a81ac40cb2a"
   },
   "outputs": [
    {
     "name": "stdout",
     "output_type": "stream",
     "text": [
      "\r",
      "Epoch 14... (Train) LOSS: 0.180"
     ]
    },
    {
     "data": {
      "image/png": "[encoded data removed]",
      "text/plain": [
       "<Figure size 864x360 with 1 Axes>"
      ]
     },
     "metadata": {
      "needs_background": "light"
     },
     "output_type": "display_data"
    },
    {
     "name": "stderr",
     "output_type": "stream",
     "text": [
      "  2%|▏         | 3/167 [00:15<14:12,  5.20s/it]\n"
     ]
    },
    {
     "data": {
      "text/plain": [
       "[0.4306648948235426,\n",
       " 0.23226303326155612,\n",
       " 0.20964978019634406,\n",
       " 0.2001270830274342,\n",
       " 0.19717462691004406,\n",
       " 0.1947553796682529,\n",
       " 0.19166856183263356,\n",
       " 0.19137819155961452,\n",
       " 0.1888875811399814,\n",
       " 0.18632457463327282,\n",
       " 0.1846399881882582,\n",
       " 0.1844156502249712,\n",
       " 0.18206433264795177,\n",
       " 0.1805296900743496,\n",
       " 0.1802125862258637]"
      ]
     },
     "execution_count": 21,
     "metadata": {},
     "output_type": "execute_result"
    }
   ],
   "source": [
    "train(model, dataloader1, 40, 0.001, batch_sz, dev)"
   ]
  },
  {
   "cell_type": "code",
   "execution_count": 21,
   "metadata": {
    "id": "bQmKPIsfEBdD"
   },
   "outputs": [],
   "source": [
    "path1 = \"/content/drive/MyDrive/train/fs-eyes-15.tar\""
   ]
  },
  {
   "cell_type": "code",
   "execution_count": 22,
   "metadata": {
    "colab": {
     "base_uri": "https://localhost:8080/"
    },
    "id": "vfcLWHiJF3Oy",
    "outputId": "17a61958-662a-4bd1-dda3-44c2dab8a484"
   },
   "outputs": [
    {
     "data": {
      "text/plain": [
       "<All keys matched successfully>"
      ]
     },
     "execution_count": 22,
     "metadata": {},
     "output_type": "execute_result"
    }
   ],
   "source": [
    "model.load_state_dict(torch.load(path1))"
   ]
  },
  {
   "cell_type": "code",
   "execution_count": 23,
   "metadata": {
    "colab": {
     "base_uri": "https://localhost:8080/",
     "height": 444
    },
    "id": "Yn9KqPovF8JX",
    "outputId": "fe5395bf-b49d-4c99-ce05-e3375670fa5c"
   },
   "outputs": [
    {
     "name": "stdout",
     "output_type": "stream",
     "text": [
      "\r",
      "Epoch 4... (Train) LOSS: 0.175"
     ]
    },
    {
     "data": {
      "image/png": "[encoded data removed]",
      "text/plain": [
       "<Figure size 864x360 with 1 Axes>"
      ]
     },
     "metadata": {
      "needs_background": "light"
     },
     "output_type": "display_data"
    },
    {
     "data": {
      "text/plain": [
       "[0.18075868005524137,\n",
       " 0.1783336111885345,\n",
       " 0.17801785397672368,\n",
       " 0.17972646430580916,\n",
       " 0.17549196046269583]"
      ]
     },
     "execution_count": 23,
     "metadata": {},
     "output_type": "execute_result"
    }
   ],
   "source": [
    "train(model, dataloader1, 5, 0.001, batch_sz, dev, 14)"
   ]
  },
  {
   "cell_type": "code",
   "execution_count": 21,
   "metadata": {
    "id": "Xs5siCZJhDwL"
   },
   "outputs": [],
   "source": [
    "path2 = \"/content/drive/MyDrive/train/fs-eyes-10.tar\""
   ]
  },
  {
   "cell_type": "code",
   "execution_count": 22,
   "metadata": {
    "colab": {
     "base_uri": "https://localhost:8080/"
    },
    "id": "voEIjvV7hgPL",
    "outputId": "86ef72b4-4e3b-43b4-b0e0-c8b3be614ce9"
   },
   "outputs": [
    {
     "data": {
      "text/plain": [
       "<All keys matched successfully>"
      ]
     },
     "execution_count": 22,
     "metadata": {},
     "output_type": "execute_result"
    }
   ],
   "source": [
    "model.load_state_dict(torch.load(path2))"
   ]
  },
  {
   "cell_type": "code",
   "execution_count": 23,
   "metadata": {
    "collapsed": true,
    "id": "-ogXBCH0IuW6"
   },
   "outputs": [],
   "source": [
    "class TestDataset():\n",
    "    def __init__(self,path,source_transform):\n",
    "        self.datas = torch.load(path)\n",
    "        self.s_transform = source_transform\n",
    "    def __getitem__(self, index):\n",
    "        data = self.datas[index]\n",
    "        img = data['img'].numpy()\n",
    "        img = self.s_transform(img)\n",
    "        return img\n",
    "    def __len__(self):\n",
    "        return len(self.datas)\n",
    "\n",
    "testset = TestDataset(TEST_PATH, s_trans)\n",
    "test_dataloader = torch.utils.data.DataLoader(testset,batch_size=1)"
   ]
  },
  {
   "cell_type": "code",
   "execution_count": 24,
   "metadata": {
    "id": "VrDFBuURWyNZ"
   },
   "outputs": [],
   "source": [
    "from skimage import transform\n",
    "import imageio"
   ]
  },
  {
   "cell_type": "code",
   "execution_count": 26,
   "metadata": {
    "colab": {
     "base_uri": "https://localhost:8080/"
    },
    "id": "EXSy3atvIuW6",
    "outputId": "c42f2941-655c-4b37-8ca7-70c837273754"
   },
   "outputs": [
    {
     "name": "stderr",
     "output_type": "stream",
     "text": [
      "/usr/local/lib/python3.7/dist-packages/ipykernel_launcher.py:4: UserWarning: volatile was removed and now has no effect. Use `with torch.no_grad():` instead.\n",
      "  after removing the cwd from sys.path.\n",
      "/usr/local/lib/python3.7/dist-packages/torch/nn/functional.py:718: UserWarning: Named tensors and all their associated APIs are an experimental feature and subject to change. Please do not use them for anything important until they are released as stable. (Triggered internally at  /pytorch/c10/core/TensorImpl.h:1156.)\n",
      "  return torch.max_pool2d(input, kernel_size, stride, padding, dilation, ceil_mode)\n",
      "WARNING:root:Lossy conversion from int64 to uint8. Range [0, 1]. Convert image to uint8 prior to saving to suppress this warning.\n"
     ]
    },
    {
     "name": "stdout",
     "output_type": "stream",
     "text": [
      "!\n"
     ]
    },
    {
     "name": "stderr",
     "output_type": "stream",
     "text": [
      "WARNING:root:Lossy conversion from int64 to uint8. Range [0, 1]. Convert image to uint8 prior to saving to suppress this warning.\n"
     ]
    },
    {
     "name": "stdout",
     "output_type": "stream",
     "text": [
      "!\n"
     ]
    },
    {
     "name": "stderr",
     "output_type": "stream",
     "text": [
      "WARNING:root:Lossy conversion from int64 to uint8. Range [0, 1]. Convert image to uint8 prior to saving to suppress this warning.\n"
     ]
    },
    {
     "name": "stdout",
     "output_type": "stream",
     "text": [
      "!\n"
     ]
    },
    {
     "name": "stderr",
     "output_type": "stream",
     "text": [
      "WARNING:root:Lossy conversion from int64 to uint8. Range [0, 1]. Convert image to uint8 prior to saving to suppress this warning.\n"
     ]
    },
    {
     "name": "stdout",
     "output_type": "stream",
     "text": [
      "!\n"
     ]
    },
    {
     "name": "stderr",
     "output_type": "stream",
     "text": [
      "WARNING:root:Lossy conversion from int64 to uint8. Range [0, 1]. Convert image to uint8 prior to saving to suppress this warning.\n"
     ]
    },
    {
     "name": "stdout",
     "output_type": "stream",
     "text": [
      "!\n"
     ]
    },
    {
     "name": "stderr",
     "output_type": "stream",
     "text": [
      "WARNING:root:Lossy conversion from int64 to uint8. Range [0, 1]. Convert image to uint8 prior to saving to suppress this warning.\n"
     ]
    },
    {
     "name": "stdout",
     "output_type": "stream",
     "text": [
      "!\n"
     ]
    },
    {
     "name": "stderr",
     "output_type": "stream",
     "text": [
      "WARNING:root:Lossy conversion from int64 to uint8. Range [0, 1]. Convert image to uint8 prior to saving to suppress this warning.\n"
     ]
    },
    {
     "name": "stdout",
     "output_type": "stream",
     "text": [
      "!\n"
     ]
    },
    {
     "name": "stderr",
     "output_type": "stream",
     "text": [
      "WARNING:root:Lossy conversion from int64 to uint8. Range [0, 1]. Convert image to uint8 prior to saving to suppress this warning.\n"
     ]
    },
    {
     "name": "stdout",
     "output_type": "stream",
     "text": [
      "!\n"
     ]
    },
    {
     "name": "stderr",
     "output_type": "stream",
     "text": [
      "WARNING:root:Lossy conversion from int64 to uint8. Range [0, 1]. Convert image to uint8 prior to saving to suppress this warning.\n"
     ]
    },
    {
     "name": "stdout",
     "output_type": "stream",
     "text": [
      "!\n"
     ]
    },
    {
     "name": "stderr",
     "output_type": "stream",
     "text": [
      "WARNING:root:Lossy conversion from int64 to uint8. Range [0, 1]. Convert image to uint8 prior to saving to suppress this warning.\n"
     ]
    },
    {
     "name": "stdout",
     "output_type": "stream",
     "text": [
      "!\n"
     ]
    },
    {
     "name": "stderr",
     "output_type": "stream",
     "text": [
      "WARNING:root:Lossy conversion from int64 to uint8. Range [0, 1]. Convert image to uint8 prior to saving to suppress this warning.\n"
     ]
    },
    {
     "name": "stdout",
     "output_type": "stream",
     "text": [
      "!\n"
     ]
    },
    {
     "name": "stderr",
     "output_type": "stream",
     "text": [
      "WARNING:root:Lossy conversion from int64 to uint8. Range [0, 1]. Convert image to uint8 prior to saving to suppress this warning.\n"
     ]
    },
    {
     "name": "stdout",
     "output_type": "stream",
     "text": [
      "!\n"
     ]
    },
    {
     "name": "stderr",
     "output_type": "stream",
     "text": [
      "WARNING:root:Lossy conversion from int64 to uint8. Range [0, 1]. Convert image to uint8 prior to saving to suppress this warning.\n"
     ]
    },
    {
     "name": "stdout",
     "output_type": "stream",
     "text": [
      "!\n"
     ]
    },
    {
     "name": "stderr",
     "output_type": "stream",
     "text": [
      "WARNING:root:Lossy conversion from int64 to uint8. Range [0, 1]. Convert image to uint8 prior to saving to suppress this warning.\n"
     ]
    },
    {
     "name": "stdout",
     "output_type": "stream",
     "text": [
      "!\n"
     ]
    },
    {
     "name": "stderr",
     "output_type": "stream",
     "text": [
      "WARNING:root:Lossy conversion from int64 to uint8. Range [0, 1]. Convert image to uint8 prior to saving to suppress this warning.\n"
     ]
    },
    {
     "name": "stdout",
     "output_type": "stream",
     "text": [
      "!\n"
     ]
    },
    {
     "name": "stderr",
     "output_type": "stream",
     "text": [
      "WARNING:root:Lossy conversion from int64 to uint8. Range [0, 1]. Convert image to uint8 prior to saving to suppress this warning.\n"
     ]
    },
    {
     "name": "stdout",
     "output_type": "stream",
     "text": [
      "!\n"
     ]
    },
    {
     "name": "stderr",
     "output_type": "stream",
     "text": [
      "WARNING:root:Lossy conversion from int64 to uint8. Range [0, 1]. Convert image to uint8 prior to saving to suppress this warning.\n"
     ]
    },
    {
     "name": "stdout",
     "output_type": "stream",
     "text": [
      "!\n"
     ]
    },
    {
     "name": "stderr",
     "output_type": "stream",
     "text": [
      "WARNING:root:Lossy conversion from int64 to uint8. Range [0, 1]. Convert image to uint8 prior to saving to suppress this warning.\n"
     ]
    },
    {
     "name": "stdout",
     "output_type": "stream",
     "text": [
      "!\n"
     ]
    },
    {
     "name": "stderr",
     "output_type": "stream",
     "text": [
      "WARNING:root:Lossy conversion from int64 to uint8. Range [0, 1]. Convert image to uint8 prior to saving to suppress this warning.\n"
     ]
    },
    {
     "name": "stdout",
     "output_type": "stream",
     "text": [
      "!\n"
     ]
    },
    {
     "name": "stderr",
     "output_type": "stream",
     "text": [
      "WARNING:root:Lossy conversion from int64 to uint8. Range [0, 1]. Convert image to uint8 prior to saving to suppress this warning.\n"
     ]
    },
    {
     "name": "stdout",
     "output_type": "stream",
     "text": [
      "!\n"
     ]
    }
   ],
   "source": [
    "model1 = model.eval()\n",
    "for ex_id, data in enumerate(test_dataloader):\n",
    "    if dev == \"cuda\":\n",
    "        data = torch.autograd.Variable(data, volatile=True).cuda()\n",
    "    else:\n",
    "        data = torch.autograd.Variable(data, volatile=True).cpu()\n",
    "    o = model1(data.cpu())\n",
    "    print('!')\n",
    "    source_image = io.imread(\"drive/MyDrive/test/images/%s_test.tif\" % str(ex_id + 1).zfill(2))\n",
    "    tm = o[0][0].data.cpu().numpy()\n",
    "    tm = skimage.transform.resize(tm, source_image.shape[:-1])\n",
    "    tm = (tm > 0.5).astype(int)\n",
    "    \n",
    "    imageio.imwrite(\"drive/MyDrive/test/result/%s.png\" % (ex_id + 1), tm)"
   ]
  },
  {
   "cell_type": "markdown",
   "metadata": {
    "id": "8zBYZTY8pPaw"
   },
   "source": [
    "Пробовал увеличивать датасет за счет вращений + постепенно наращивал разрешение (вплоть до исходного). Также варьировал размеры батча (версия с батчом размера 1 и разрешением 250 оказалась крайне неудачной - score 0.06 на картинке 2). Пробовал разное число эпох обучения - при кол-ве >= 90 модель начинает переобучаться. В будущем попробую добавить шум в изображения, при этом постараюсь уменьшить размер датасета и разрешение картинок - модель очень долго учится, регулярно прилетают баны на google collab - пришлось регулярно сейвить модели  и учить на дополнительных аккаунтах (видимо, надо учиться пользоваться учебным сервером)"
   ]
  },
  {
   "cell_type": "markdown",
   "metadata": {
    "id": "WmHeRBtRZgbV"
   },
   "source": [
    "Upd: расширение датасета до 1000 изображений значительно увеличило время обучения на одну эпоху, и в то же время позволило получить значительно более высокий скор за меньшее число эпох. Максимальный скор (0.8176) был достигнут на 10-й эпохе"
   ]
  },
  {
   "cell_type": "code",
   "execution_count": null,
   "metadata": {},
   "outputs": [],
   "source": []
  }
 ],
 "metadata": {
  "accelerator": "GPU",
  "colab": {
   "collapsed_sections": [],
   "name": "Bystrov_last_submit (2.1)_isok.ipynb",
   "provenance": []
  },
  "kernelspec": {
   "display_name": "Python 3",
   "language": "python",
   "name": "python3"
  },
  "language_info": {
   "codemirror_mode": {
    "name": "ipython",
    "version": 3
   },
   "file_extension": ".py",
   "mimetype": "text/x-python",
   "name": "python",
   "nbconvert_exporter": "python",
   "pygments_lexer": "ipython3",
   "version": "3.8.8"
  }
 },
 "nbformat": 4,
 "nbformat_minor": 1
}
